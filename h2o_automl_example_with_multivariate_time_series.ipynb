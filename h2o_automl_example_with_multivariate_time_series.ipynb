{
  "nbformat": 4,
  "nbformat_minor": 0,
  "metadata": {
    "colab": {
      "name": "H2O_AutoML_example_with_multivariate_time_series.ipynb",
      "version": "0.3.2",
      "provenance": [],
      "collapsed_sections": []
    },
    "kernelspec": {
      "display_name": "Python 3",
      "language": "python",
      "name": "python3"
    }
  },
  "cells": [
    {
      "metadata": {
        "id": "VfLAY-w7MUWz",
        "colab_type": "text"
      },
      "cell_type": "markdown",
      "source": [
        "# H2O AutoML example with multivariate time series\n",
        "- this notebook was designed to run on Google's Colaboratory platform (https://colab.research.google.com)\n",
        "- the feature matrix consists of lags of the target signal and lags of other features\n",
        "- H2O's AutoML is used to forecast the target signal \n",
        "- unlike an LSTM model, this type of model has no memory and is unaware of any temporal structure\n",
        "- for info on the dataset used and the methodology see: https://machinelearningmastery.com/multivariate-time-series-forecasting-lstms-keras/ "
      ]
    },
    {
      "metadata": {
        "id": "Cl_jiK7kMUW7",
        "colab_type": "text"
      },
      "cell_type": "markdown",
      "source": [
        "## Install Java\n",
        "\n",
        "- necessary for H2O\n",
        "- version 8\n",
        "- note the exclamation '!' is a cell magic that allows us to execute commands (in this case Ubuntu linux)\n",
        "\n",
        "\n",
        "-note: Colab won't persist installations or your working directory"
      ]
    },
    {
      "metadata": {
        "id": "A-N_2BB9MUXB",
        "colab_type": "code",
        "colab": {}
      },
      "cell_type": "code",
      "source": [
        "!apt-get install openjdk-8-jdk -qq > /dev/null"
      ],
      "execution_count": 0,
      "outputs": []
    },
    {
      "metadata": {
        "id": "euPA__3QMUXW",
        "colab_type": "text"
      },
      "cell_type": "markdown",
      "source": [
        "## install h2o library"
      ]
    },
    {
      "metadata": {
        "id": "PlxqeAdEMUXd",
        "colab_type": "code",
        "colab": {
          "base_uri": "https://localhost:8080/",
          "height": 50
        },
        "outputId": "769fe1a9-e8bb-4ef0-b308-e888288177d1"
      },
      "cell_type": "code",
      "source": [
        "!pip install h2o -qq"
      ],
      "execution_count": 2,
      "outputs": [
        {
          "output_type": "stream",
          "text": [
            "\u001b[K    100% |████████████████████████████████| 120.9MB 176kB/s \n",
            "\u001b[?25h  Building wheel for h2o (setup.py) ... \u001b[?25ldone\n",
            "\u001b[?25h"
          ],
          "name": "stdout"
        }
      ]
    },
    {
      "metadata": {
        "id": "Zj8rvaeMMUXu",
        "colab_type": "text"
      },
      "cell_type": "markdown",
      "source": [
        "## Import Dependencies"
      ]
    },
    {
      "metadata": {
        "id": "3FmfPfFzMUXy",
        "colab_type": "code",
        "colab": {}
      },
      "cell_type": "code",
      "source": [
        "import pandas as pd\n",
        "import h2o\n",
        "from h2o.automl import H2OAutoML\n",
        "\n",
        "import matplotlib.pyplot as plt\n",
        "from scipy import stats\n",
        "\n",
        "\n",
        "%matplotlib inline"
      ],
      "execution_count": 0,
      "outputs": []
    },
    {
      "metadata": {
        "id": "fn2Jxoh2MUYD",
        "colab_type": "text"
      },
      "cell_type": "markdown",
      "source": [
        "## Read pollution.csv into pandas df\n",
        "- set date as index\n",
        "- display first 5 rows\n",
        "- the Air Pollution data is discussed here: https://machinelearningmastery.com/multivariate-time-series-forecasting-lstms-keras/\n",
        "- this is a dataset that reports on the weather and the level of pollution each hour for five years at the US embassy in Beijing, China.\n",
        "- we can use this data and frame a forecasting problem where, given the weather conditions and pollution for prior hours, we forecast the pollution at the next hour."
      ]
    },
    {
      "metadata": {
        "id": "uSpgxus0MUYe",
        "colab_type": "code",
        "colab": {
          "base_uri": "https://localhost:8080/",
          "height": 220
        },
        "outputId": "e51a1d23-81e9-402f-eb68-c824f8f6a8c1"
      },
      "cell_type": "code",
      "source": [
        "df = pd.read_csv('https://raw.githubusercontent.com/sagarmk/Forecasting-on-Air-pollution-with-RNN-LSTM/master/pollution.csv',index_col=0)\n",
        "\n",
        "df.head()"
      ],
      "execution_count": 7,
      "outputs": [
        {
          "output_type": "execute_result",
          "data": {
            "text/html": [
              "<div>\n",
              "<style scoped>\n",
              "    .dataframe tbody tr th:only-of-type {\n",
              "        vertical-align: middle;\n",
              "    }\n",
              "\n",
              "    .dataframe tbody tr th {\n",
              "        vertical-align: top;\n",
              "    }\n",
              "\n",
              "    .dataframe thead th {\n",
              "        text-align: right;\n",
              "    }\n",
              "</style>\n",
              "<table border=\"1\" class=\"dataframe\">\n",
              "  <thead>\n",
              "    <tr style=\"text-align: right;\">\n",
              "      <th></th>\n",
              "      <th>pollution</th>\n",
              "      <th>dew</th>\n",
              "      <th>temp</th>\n",
              "      <th>press</th>\n",
              "      <th>wnd_dir</th>\n",
              "      <th>wnd_spd</th>\n",
              "      <th>snow</th>\n",
              "      <th>rain</th>\n",
              "    </tr>\n",
              "    <tr>\n",
              "      <th>date</th>\n",
              "      <th></th>\n",
              "      <th></th>\n",
              "      <th></th>\n",
              "      <th></th>\n",
              "      <th></th>\n",
              "      <th></th>\n",
              "      <th></th>\n",
              "      <th></th>\n",
              "    </tr>\n",
              "  </thead>\n",
              "  <tbody>\n",
              "    <tr>\n",
              "      <th>2010-01-02 00:00:00</th>\n",
              "      <td>129.0</td>\n",
              "      <td>-16</td>\n",
              "      <td>-4.0</td>\n",
              "      <td>1020.0</td>\n",
              "      <td>SE</td>\n",
              "      <td>1.79</td>\n",
              "      <td>0</td>\n",
              "      <td>0</td>\n",
              "    </tr>\n",
              "    <tr>\n",
              "      <th>2010-01-02 01:00:00</th>\n",
              "      <td>148.0</td>\n",
              "      <td>-15</td>\n",
              "      <td>-4.0</td>\n",
              "      <td>1020.0</td>\n",
              "      <td>SE</td>\n",
              "      <td>2.68</td>\n",
              "      <td>0</td>\n",
              "      <td>0</td>\n",
              "    </tr>\n",
              "    <tr>\n",
              "      <th>2010-01-02 02:00:00</th>\n",
              "      <td>159.0</td>\n",
              "      <td>-11</td>\n",
              "      <td>-5.0</td>\n",
              "      <td>1021.0</td>\n",
              "      <td>SE</td>\n",
              "      <td>3.57</td>\n",
              "      <td>0</td>\n",
              "      <td>0</td>\n",
              "    </tr>\n",
              "    <tr>\n",
              "      <th>2010-01-02 03:00:00</th>\n",
              "      <td>181.0</td>\n",
              "      <td>-7</td>\n",
              "      <td>-5.0</td>\n",
              "      <td>1022.0</td>\n",
              "      <td>SE</td>\n",
              "      <td>5.36</td>\n",
              "      <td>1</td>\n",
              "      <td>0</td>\n",
              "    </tr>\n",
              "    <tr>\n",
              "      <th>2010-01-02 04:00:00</th>\n",
              "      <td>138.0</td>\n",
              "      <td>-7</td>\n",
              "      <td>-5.0</td>\n",
              "      <td>1022.0</td>\n",
              "      <td>SE</td>\n",
              "      <td>6.25</td>\n",
              "      <td>2</td>\n",
              "      <td>0</td>\n",
              "    </tr>\n",
              "  </tbody>\n",
              "</table>\n",
              "</div>"
            ],
            "text/plain": [
              "                     pollution  dew  temp   press wnd_dir  wnd_spd  snow  rain\n",
              "date                                                                          \n",
              "2010-01-02 00:00:00      129.0  -16  -4.0  1020.0      SE     1.79     0     0\n",
              "2010-01-02 01:00:00      148.0  -15  -4.0  1020.0      SE     2.68     0     0\n",
              "2010-01-02 02:00:00      159.0  -11  -5.0  1021.0      SE     3.57     0     0\n",
              "2010-01-02 03:00:00      181.0   -7  -5.0  1022.0      SE     5.36     1     0\n",
              "2010-01-02 04:00:00      138.0   -7  -5.0  1022.0      SE     6.25     2     0"
            ]
          },
          "metadata": {
            "tags": []
          },
          "execution_count": 7
        }
      ]
    },
    {
      "metadata": {
        "id": "sYh5wJcnMUZD",
        "colab_type": "code",
        "colab": {
          "base_uri": "https://localhost:8080/",
          "height": 33
        },
        "outputId": "7f83a9bd-86a3-45ee-9290-4d16910091e7"
      },
      "cell_type": "code",
      "source": [
        "print('number of rows = ', df.shape[0])"
      ],
      "execution_count": 8,
      "outputs": [
        {
          "output_type": "stream",
          "text": [
            "number of rows =  43800\n"
          ],
          "name": "stdout"
        }
      ]
    },
    {
      "metadata": {
        "id": "FgVoMUe3MUZh",
        "colab_type": "text"
      },
      "cell_type": "markdown",
      "source": [
        "## Plot the data\n",
        "- for this step, we'll use the same code used here: https://machinelearningmastery.com/multivariate-time-series-forecasting-lstms-keras/"
      ]
    },
    {
      "metadata": {
        "id": "lsvQT0sbMUZn",
        "colab_type": "code",
        "colab": {
          "base_uri": "https://localhost:8080/",
          "height": 268
        },
        "outputId": "62e6f76d-3285-4512-dfdf-bbf621881088"
      },
      "cell_type": "code",
      "source": [
        "# specify columns to plot\n",
        "values = df.values\n",
        "groups = [0, 1, 2, 3, 5, 6, 7]\n",
        "i = 1\n",
        "# plot each column\n",
        "plt.figure()\n",
        "for group in groups:\n",
        "    plt.subplot(len(groups), 1, i)\n",
        "    plt.plot(values[:, group])\n",
        "    plt.title(df.columns[group], y=0.5, loc='right')\n",
        "    i += 1\n",
        "plt.show()"
      ],
      "execution_count": 9,
      "outputs": [
        {
          "output_type": "display_data",
          "data": {
            "image/png": "[encoded data removed]",
            "text/plain": [
              "<Figure size 432x288 with 7 Axes>"
            ]
          },
          "metadata": {
            "tags": []
          }
        }
      ]
    },
    {
      "metadata": {
        "id": "8u2uYHESMUZ5",
        "colab_type": "text"
      },
      "cell_type": "markdown",
      "source": [
        "## Inorder to model the time-series with conventional supervised machine learning, the data must be preprocessed \n",
        "- in this case, we will just predict the target signal ('pollution') one step ahead\n",
        "- the features and the target will be lagged by num_lags and aggregated by mean with windows of num_lags"
      ]
    },
    {
      "metadata": {
        "id": "FC7S8rA8MUZ9",
        "colab_type": "code",
        "colab": {
          "base_uri": "https://localhost:8080/",
          "height": 293
        },
        "outputId": "fa67aeb7-7e64-43cc-89c0-7cc13aefa08f"
      },
      "cell_type": "code",
      "source": [
        "df2 = df.copy()\n",
        "num_lags = 3 # number of lags and window lenghts for mean aggregation\n",
        "delay = 1 # predict target one step ahead\n",
        "for column in df2:\n",
        "    for lag in range(1,num_lags+1):\n",
        "        df2[column + '_lag' + str(lag)] = df2[column].shift(lag*-1-(delay-1))\n",
        "        if column != 'wnd_dir':\n",
        "            df2[column + '_avg_window_length' + str(lag+1)] = df2[column].shift(-1-(delay-1)).rolling(window=lag+1,center=False).mean().shift(1-(lag+1))\n",
        "\n",
        "df2.dropna(inplace=True) \n",
        "\n",
        "mask = (df2.columns.str.contains('pollution') | df2.columns.str.contains('lag') | df2.columns.str.contains('window'))\n",
        "df_processed = df2[df2.columns[mask]]\n",
        "\n",
        "# the columns in the processed dataframe\n",
        "df_processed.columns"
      ],
      "execution_count": 10,
      "outputs": [
        {
          "output_type": "execute_result",
          "data": {
            "text/plain": [
              "Index(['pollution', 'pollution_lag1', 'pollution_avg_window_length2',\n",
              "       'pollution_lag2', 'pollution_avg_window_length3', 'pollution_lag3',\n",
              "       'pollution_avg_window_length4', 'dew_lag1', 'dew_avg_window_length2',\n",
              "       'dew_lag2', 'dew_avg_window_length3', 'dew_lag3',\n",
              "       'dew_avg_window_length4', 'temp_lag1', 'temp_avg_window_length2',\n",
              "       'temp_lag2', 'temp_avg_window_length3', 'temp_lag3',\n",
              "       'temp_avg_window_length4', 'press_lag1', 'press_avg_window_length2',\n",
              "       'press_lag2', 'press_avg_window_length3', 'press_lag3',\n",
              "       'press_avg_window_length4', 'wnd_dir_lag1', 'wnd_dir_lag2',\n",
              "       'wnd_dir_lag3', 'wnd_spd_lag1', 'wnd_spd_avg_window_length2',\n",
              "       'wnd_spd_lag2', 'wnd_spd_avg_window_length3', 'wnd_spd_lag3',\n",
              "       'wnd_spd_avg_window_length4', 'snow_lag1', 'snow_avg_window_length2',\n",
              "       'snow_lag2', 'snow_avg_window_length3', 'snow_lag3',\n",
              "       'snow_avg_window_length4', 'rain_lag1', 'rain_avg_window_length2',\n",
              "       'rain_lag2', 'rain_avg_window_length3', 'rain_lag3',\n",
              "       'rain_avg_window_length4'],\n",
              "      dtype='object')"
            ]
          },
          "metadata": {
            "tags": []
          },
          "execution_count": 10
        }
      ]
    },
    {
      "metadata": {
        "id": "tJqprPCRMUaN",
        "colab_type": "text"
      },
      "cell_type": "markdown",
      "source": [
        "## Take a look at the pollution lags and windows"
      ]
    },
    {
      "metadata": {
        "id": "8FM0yE5VMUaR",
        "colab_type": "code",
        "colab": {
          "base_uri": "https://localhost:8080/",
          "height": 363
        },
        "outputId": "be4b5b7d-30d8-42cd-d999-412f12462a5a"
      },
      "cell_type": "code",
      "source": [
        "mask = df_processed.columns.str.contains('pollution')\n",
        "df_processed[df_processed.columns[mask]].head(10)"
      ],
      "execution_count": 11,
      "outputs": [
        {
          "output_type": "execute_result",
          "data": {
            "text/html": [
              "<div>\n",
              "<style scoped>\n",
              "    .dataframe tbody tr th:only-of-type {\n",
              "        vertical-align: middle;\n",
              "    }\n",
              "\n",
              "    .dataframe tbody tr th {\n",
              "        vertical-align: top;\n",
              "    }\n",
              "\n",
              "    .dataframe thead th {\n",
              "        text-align: right;\n",
              "    }\n",
              "</style>\n",
              "<table border=\"1\" class=\"dataframe\">\n",
              "  <thead>\n",
              "    <tr style=\"text-align: right;\">\n",
              "      <th></th>\n",
              "      <th>pollution</th>\n",
              "      <th>pollution_lag1</th>\n",
              "      <th>pollution_avg_window_length2</th>\n",
              "      <th>pollution_lag2</th>\n",
              "      <th>pollution_avg_window_length3</th>\n",
              "      <th>pollution_lag3</th>\n",
              "      <th>pollution_avg_window_length4</th>\n",
              "    </tr>\n",
              "    <tr>\n",
              "      <th>date</th>\n",
              "      <th></th>\n",
              "      <th></th>\n",
              "      <th></th>\n",
              "      <th></th>\n",
              "      <th></th>\n",
              "      <th></th>\n",
              "      <th></th>\n",
              "    </tr>\n",
              "  </thead>\n",
              "  <tbody>\n",
              "    <tr>\n",
              "      <th>2010-01-02 00:00:00</th>\n",
              "      <td>129.0</td>\n",
              "      <td>148.0</td>\n",
              "      <td>153.5</td>\n",
              "      <td>159.0</td>\n",
              "      <td>162.666667</td>\n",
              "      <td>181.0</td>\n",
              "      <td>156.50</td>\n",
              "    </tr>\n",
              "    <tr>\n",
              "      <th>2010-01-02 01:00:00</th>\n",
              "      <td>148.0</td>\n",
              "      <td>159.0</td>\n",
              "      <td>170.0</td>\n",
              "      <td>181.0</td>\n",
              "      <td>159.333333</td>\n",
              "      <td>138.0</td>\n",
              "      <td>146.75</td>\n",
              "    </tr>\n",
              "    <tr>\n",
              "      <th>2010-01-02 02:00:00</th>\n",
              "      <td>159.0</td>\n",
              "      <td>181.0</td>\n",
              "      <td>159.5</td>\n",
              "      <td>138.0</td>\n",
              "      <td>142.666667</td>\n",
              "      <td>109.0</td>\n",
              "      <td>133.25</td>\n",
              "    </tr>\n",
              "    <tr>\n",
              "      <th>2010-01-02 03:00:00</th>\n",
              "      <td>181.0</td>\n",
              "      <td>138.0</td>\n",
              "      <td>123.5</td>\n",
              "      <td>109.0</td>\n",
              "      <td>117.333333</td>\n",
              "      <td>105.0</td>\n",
              "      <td>119.00</td>\n",
              "    </tr>\n",
              "    <tr>\n",
              "      <th>2010-01-02 04:00:00</th>\n",
              "      <td>138.0</td>\n",
              "      <td>109.0</td>\n",
              "      <td>107.0</td>\n",
              "      <td>105.0</td>\n",
              "      <td>112.666667</td>\n",
              "      <td>124.0</td>\n",
              "      <td>114.50</td>\n",
              "    </tr>\n",
              "    <tr>\n",
              "      <th>2010-01-02 05:00:00</th>\n",
              "      <td>109.0</td>\n",
              "      <td>105.0</td>\n",
              "      <td>114.5</td>\n",
              "      <td>124.0</td>\n",
              "      <td>116.333333</td>\n",
              "      <td>120.0</td>\n",
              "      <td>120.25</td>\n",
              "    </tr>\n",
              "    <tr>\n",
              "      <th>2010-01-02 06:00:00</th>\n",
              "      <td>105.0</td>\n",
              "      <td>124.0</td>\n",
              "      <td>122.0</td>\n",
              "      <td>120.0</td>\n",
              "      <td>125.333333</td>\n",
              "      <td>132.0</td>\n",
              "      <td>129.00</td>\n",
              "    </tr>\n",
              "    <tr>\n",
              "      <th>2010-01-02 07:00:00</th>\n",
              "      <td>124.0</td>\n",
              "      <td>120.0</td>\n",
              "      <td>126.0</td>\n",
              "      <td>132.0</td>\n",
              "      <td>130.666667</td>\n",
              "      <td>140.0</td>\n",
              "      <td>136.00</td>\n",
              "    </tr>\n",
              "    <tr>\n",
              "      <th>2010-01-02 08:00:00</th>\n",
              "      <td>120.0</td>\n",
              "      <td>132.0</td>\n",
              "      <td>136.0</td>\n",
              "      <td>140.0</td>\n",
              "      <td>141.333333</td>\n",
              "      <td>152.0</td>\n",
              "      <td>143.00</td>\n",
              "    </tr>\n",
              "    <tr>\n",
              "      <th>2010-01-02 09:00:00</th>\n",
              "      <td>132.0</td>\n",
              "      <td>140.0</td>\n",
              "      <td>146.0</td>\n",
              "      <td>152.0</td>\n",
              "      <td>146.666667</td>\n",
              "      <td>148.0</td>\n",
              "      <td>151.00</td>\n",
              "    </tr>\n",
              "  </tbody>\n",
              "</table>\n",
              "</div>"
            ],
            "text/plain": [
              "                     pollution  pollution_lag1  pollution_avg_window_length2  \\\n",
              "date                                                                           \n",
              "2010-01-02 00:00:00      129.0           148.0                         153.5   \n",
              "2010-01-02 01:00:00      148.0           159.0                         170.0   \n",
              "2010-01-02 02:00:00      159.0           181.0                         159.5   \n",
              "2010-01-02 03:00:00      181.0           138.0                         123.5   \n",
              "2010-01-02 04:00:00      138.0           109.0                         107.0   \n",
              "2010-01-02 05:00:00      109.0           105.0                         114.5   \n",
              "2010-01-02 06:00:00      105.0           124.0                         122.0   \n",
              "2010-01-02 07:00:00      124.0           120.0                         126.0   \n",
              "2010-01-02 08:00:00      120.0           132.0                         136.0   \n",
              "2010-01-02 09:00:00      132.0           140.0                         146.0   \n",
              "\n",
              "                     pollution_lag2  pollution_avg_window_length3  \\\n",
              "date                                                                \n",
              "2010-01-02 00:00:00           159.0                    162.666667   \n",
              "2010-01-02 01:00:00           181.0                    159.333333   \n",
              "2010-01-02 02:00:00           138.0                    142.666667   \n",
              "2010-01-02 03:00:00           109.0                    117.333333   \n",
              "2010-01-02 04:00:00           105.0                    112.666667   \n",
              "2010-01-02 05:00:00           124.0                    116.333333   \n",
              "2010-01-02 06:00:00           120.0                    125.333333   \n",
              "2010-01-02 07:00:00           132.0                    130.666667   \n",
              "2010-01-02 08:00:00           140.0                    141.333333   \n",
              "2010-01-02 09:00:00           152.0                    146.666667   \n",
              "\n",
              "                     pollution_lag3  pollution_avg_window_length4  \n",
              "date                                                               \n",
              "2010-01-02 00:00:00           181.0                        156.50  \n",
              "2010-01-02 01:00:00           138.0                        146.75  \n",
              "2010-01-02 02:00:00           109.0                        133.25  \n",
              "2010-01-02 03:00:00           105.0                        119.00  \n",
              "2010-01-02 04:00:00           124.0                        114.50  \n",
              "2010-01-02 05:00:00           120.0                        120.25  \n",
              "2010-01-02 06:00:00           132.0                        129.00  \n",
              "2010-01-02 07:00:00           140.0                        136.00  \n",
              "2010-01-02 08:00:00           152.0                        143.00  \n",
              "2010-01-02 09:00:00           148.0                        151.00  "
            ]
          },
          "metadata": {
            "tags": []
          },
          "execution_count": 11
        }
      ]
    },
    {
      "metadata": {
        "id": "65OtaTShMUan",
        "colab_type": "text"
      },
      "cell_type": "markdown",
      "source": [
        "## perform train/test split\n",
        "- split the data sequentially mainting chronological order\n",
        "- 80% train/ 20% test"
      ]
    },
    {
      "metadata": {
        "id": "Hoif9kDoMUar",
        "colab_type": "code",
        "colab": {}
      },
      "cell_type": "code",
      "source": [
        "df_processed.reset_index(drop=True,inplace=True)\n",
        "df_train = df_processed.loc[:int(df_processed.shape[0]*0.8),:]\n",
        "df_test = df_processed.loc[int(df_processed.shape[0]*0.8):,:]"
      ],
      "execution_count": 0,
      "outputs": []
    },
    {
      "metadata": {
        "id": "kfgsPFhGMUa3",
        "colab_type": "text"
      },
      "cell_type": "markdown",
      "source": [
        "## plot the train/test split"
      ]
    },
    {
      "metadata": {
        "id": "1VXWoCoPMUa7",
        "colab_type": "code",
        "colab": {
          "base_uri": "https://localhost:8080/",
          "height": 265
        },
        "outputId": "a7e9d6ac-d999-4b72-a9c5-d8911611be76"
      },
      "cell_type": "code",
      "source": [
        "plt.plot(df_train.index,df_train['pollution'])\n",
        "plt.plot(df_test.index,df_test['pollution'])\n",
        "plt.ylabel('pollution',fontsize=18)\n",
        "plt.legend(['train','test'])\n",
        "plt.show()"
      ],
      "execution_count": 13,
      "outputs": [
        {
          "output_type": "display_data",
          "data": {
            "image/png": "[encoded data removed]",
            "text/plain": [
              "<Figure size 432x288 with 1 Axes>"
            ]
          },
          "metadata": {
            "tags": []
          }
        }
      ]
    },
    {
      "metadata": {
        "id": "zavHejIbMUbP",
        "colab_type": "text"
      },
      "cell_type": "markdown",
      "source": [
        "## Initialize h2o session"
      ]
    },
    {
      "metadata": {
        "id": "uYCYQufxMUbT",
        "colab_type": "code",
        "colab": {
          "base_uri": "https://localhost:8080/",
          "height": 465
        },
        "outputId": "f21fcb3e-4a3c-4af2-aeba-ebc106a661c5"
      },
      "cell_type": "code",
      "source": [
        "h2o.init(nthreads=-1)"
      ],
      "execution_count": 14,
      "outputs": [
        {
          "output_type": "stream",
          "text": [
            "Checking whether there is an H2O instance running at http://localhost:54321..... not found.\n",
            "Attempting to start a local H2O server...\n",
            "  Java Version: openjdk version \"10.0.2\" 2018-07-17; OpenJDK Runtime Environment (build 10.0.2+13-Ubuntu-1ubuntu0.18.04.4); OpenJDK 64-Bit Server VM (build 10.0.2+13-Ubuntu-1ubuntu0.18.04.4, mixed mode)\n",
            "  Starting server from /usr/local/lib/python3.6/dist-packages/h2o/backend/bin/h2o.jar\n",
            "  Ice root: /tmp/tmpun2oxa6l\n",
            "  JVM stdout: /tmp/tmpun2oxa6l/h2o_unknownUser_started_from_python.out\n",
            "  JVM stderr: /tmp/tmpun2oxa6l/h2o_unknownUser_started_from_python.err\n",
            "  Server is running at http://127.0.0.1:54321\n",
            "Connecting to H2O server at http://127.0.0.1:54321... successful.\n"
          ],
          "name": "stdout"
        },
        {
          "output_type": "display_data",
          "data": {
            "text/html": [
              "<div style=\"overflow:auto\"><table style=\"width:50%\"><tr><td>H2O cluster uptime:</td>\n",
              "<td>02 secs</td></tr>\n",
              "<tr><td>H2O cluster timezone:</td>\n",
              "<td>Etc/UTC</td></tr>\n",
              "<tr><td>H2O data parsing timezone:</td>\n",
              "<td>UTC</td></tr>\n",
              "<tr><td>H2O cluster version:</td>\n",
              "<td>3.22.1.4</td></tr>\n",
              "<tr><td>H2O cluster version age:</td>\n",
              "<td>8 days </td></tr>\n",
              "<tr><td>H2O cluster name:</td>\n",
              "<td>H2O_from_python_unknownUser_o5ce22</td></tr>\n",
              "<tr><td>H2O cluster total nodes:</td>\n",
              "<td>1</td></tr>\n",
              "<tr><td>H2O cluster free memory:</td>\n",
              "<td>3 Gb</td></tr>\n",
              "<tr><td>H2O cluster total cores:</td>\n",
              "<td>2</td></tr>\n",
              "<tr><td>H2O cluster allowed cores:</td>\n",
              "<td>2</td></tr>\n",
              "<tr><td>H2O cluster status:</td>\n",
              "<td>accepting new members, healthy</td></tr>\n",
              "<tr><td>H2O connection url:</td>\n",
              "<td>http://127.0.0.1:54321</td></tr>\n",
              "<tr><td>H2O connection proxy:</td>\n",
              "<td>None</td></tr>\n",
              "<tr><td>H2O internal security:</td>\n",
              "<td>False</td></tr>\n",
              "<tr><td>H2O API Extensions:</td>\n",
              "<td>Amazon S3, XGBoost, Algos, AutoML, Core V3, Core V4</td></tr>\n",
              "<tr><td>Python version:</td>\n",
              "<td>3.6.7 final</td></tr></table></div>"
            ],
            "text/plain": [
              "--------------------------  ---------------------------------------------------\n",
              "H2O cluster uptime:         02 secs\n",
              "H2O cluster timezone:       Etc/UTC\n",
              "H2O data parsing timezone:  UTC\n",
              "H2O cluster version:        3.22.1.4\n",
              "H2O cluster version age:    8 days\n",
              "H2O cluster name:           H2O_from_python_unknownUser_o5ce22\n",
              "H2O cluster total nodes:    1\n",
              "H2O cluster free memory:    3 Gb\n",
              "H2O cluster total cores:    2\n",
              "H2O cluster allowed cores:  2\n",
              "H2O cluster status:         accepting new members, healthy\n",
              "H2O connection url:         http://127.0.0.1:54321\n",
              "H2O connection proxy:\n",
              "H2O internal security:      False\n",
              "H2O API Extensions:         Amazon S3, XGBoost, Algos, AutoML, Core V3, Core V4\n",
              "Python version:             3.6.7 final\n",
              "--------------------------  ---------------------------------------------------"
            ]
          },
          "metadata": {
            "tags": []
          }
        }
      ]
    },
    {
      "metadata": {
        "id": "d2W1QAS8MUbu",
        "colab_type": "text"
      },
      "cell_type": "markdown",
      "source": [
        "## accessing H2OFlow UI\n",
        "- by default H2OFlow UI will open on localhost port 54321\n",
        "- accessing this UI is optional\n",
        "- on google colab, if you want to access H2OFlow, you will need to tunnel in to the localhost\n",
        "   - we'll use a Nodejs package to accomplish this\n",
        "- for more information on H2OFlow: http://docs.h2o.ai/h2o/latest-stable/h2o-docs/flow.html"
      ]
    },
    {
      "metadata": {
        "id": "RBRIiFUqMUb0",
        "colab_type": "code",
        "colab": {
          "base_uri": "https://localhost:8080/",
          "height": 17
        },
        "outputId": "89f893b8-8017-491d-ff49-4fc6e29e0ff6"
      },
      "cell_type": "code",
      "source": [
        "!npm install -g localtunnel -qq > /dev/null"
      ],
      "execution_count": 15,
      "outputs": [
        {
          "output_type": "stream",
          "text": [
            "\u001b[?25h"
          ],
          "name": "stdout"
        }
      ]
    },
    {
      "metadata": {
        "id": "nSS248OOMUcI",
        "colab_type": "code",
        "colab": {}
      },
      "cell_type": "code",
      "source": [
        "get_ipython().system_raw('lt --port 54321 >> url.txt 2>&1 &')"
      ],
      "execution_count": 0,
      "outputs": []
    },
    {
      "metadata": {
        "id": "Gj4I5BvBMUcY",
        "colab_type": "text"
      },
      "cell_type": "markdown",
      "source": [
        "### open the follwoing link to H2OFlow if desired "
      ]
    },
    {
      "metadata": {
        "id": "DFQ5OluwMUcb",
        "colab_type": "code",
        "colab": {
          "base_uri": "https://localhost:8080/",
          "height": 33
        },
        "outputId": "746ed1b3-5783-466c-f008-a616ebb09dd8"
      },
      "cell_type": "code",
      "source": [
        "!cat url.txt"
      ],
      "execution_count": 17,
      "outputs": [
        {
          "output_type": "stream",
          "text": [
            "your url is: https://purple-otter-30.localtunnel.me\n"
          ],
          "name": "stdout"
        }
      ]
    },
    {
      "metadata": {
        "id": "jBypQSxPMUcm",
        "colab_type": "text"
      },
      "cell_type": "markdown",
      "source": [
        "## Convert pandas dataframes to h2o frames"
      ]
    },
    {
      "metadata": {
        "id": "yhJrmvz8MUcp",
        "colab_type": "code",
        "colab": {
          "base_uri": "https://localhost:8080/",
          "height": 50
        },
        "outputId": "cb2d9de0-43b2-47db-d3c8-db78b3644ffc"
      },
      "cell_type": "code",
      "source": [
        "hf_train = h2o.H2OFrame(df_train)\n",
        "hf_test = h2o.H2OFrame(df_test)"
      ],
      "execution_count": 18,
      "outputs": [
        {
          "output_type": "stream",
          "text": [
            "Parse progress: |█████████████████████████████████████████████████████████| 100%\n",
            "Parse progress: |█████████████████████████████████████████████████████████| 100%\n"
          ],
          "name": "stdout"
        }
      ]
    },
    {
      "metadata": {
        "id": "GBn2ILZXMUc3",
        "colab_type": "code",
        "colab": {
          "base_uri": "https://localhost:8080/",
          "height": 418
        },
        "outputId": "bb5e9021-7110-4a18-bb80-907913968193"
      },
      "cell_type": "code",
      "source": [
        "hf_train.describe()"
      ],
      "execution_count": 19,
      "outputs": [
        {
          "output_type": "stream",
          "text": [
            "Rows:35037\n",
            "Cols:46\n",
            "\n",
            "\n"
          ],
          "name": "stdout"
        },
        {
          "output_type": "display_data",
          "data": {
            "text/html": [
              "<table>\n",
              "<thead>\n",
              "<tr><th>       </th><th>pollution        </th><th>pollution_lag1   </th><th>pollution_avg_window_length2  </th><th>pollution_lag2   </th><th>pollution_avg_window_length3  </th><th>pollution_lag3   </th><th>pollution_avg_window_length4  </th><th>dew_lag1          </th><th>dew_avg_window_length2  </th><th>dew_lag2          </th><th>dew_avg_window_length3  </th><th>dew_lag3          </th><th>dew_avg_window_length4  </th><th>temp_lag1         </th><th>temp_avg_window_length2  </th><th>temp_lag2         </th><th>temp_avg_window_length3  </th><th>temp_lag3         </th><th>temp_avg_window_length4  </th><th>press_lag1        </th><th>press_avg_window_length2  </th><th>press_lag2        </th><th>press_avg_window_length3  </th><th>press_lag3        </th><th>press_avg_window_length4  </th><th>wnd_dir_lag1  </th><th>wnd_dir_lag2  </th><th>wnd_dir_lag3  </th><th>wnd_spd_lag1      </th><th>wnd_spd_avg_window_length2  </th><th>wnd_spd_lag2      </th><th>wnd_spd_avg_window_length3  </th><th>wnd_spd_lag3      </th><th>wnd_spd_avg_window_length4  </th><th>snow_lag1          </th><th>snow_avg_window_length2  </th><th>snow_lag2          </th><th>snow_avg_window_length3  </th><th>snow_lag3          </th><th>snow_avg_window_length4  </th><th>rain_lag1          </th><th>rain_avg_window_length2  </th><th>rain_lag2          </th><th>rain_avg_window_length3  </th><th>rain_lag3          </th><th>rain_avg_window_length4  </th></tr>\n",
              "</thead>\n",
              "<tbody>\n",
              "<tr><td>type   </td><td>int              </td><td>int              </td><td>real                          </td><td>int              </td><td>real                          </td><td>int              </td><td>real                          </td><td>int               </td><td>real                    </td><td>int               </td><td>real                    </td><td>int               </td><td>real                    </td><td>int               </td><td>real                     </td><td>int               </td><td>real                     </td><td>int               </td><td>real                     </td><td>real              </td><td>real                      </td><td>real              </td><td>real                      </td><td>real              </td><td>real                      </td><td>enum          </td><td>enum          </td><td>enum          </td><td>real              </td><td>real                        </td><td>real              </td><td>real                        </td><td>real              </td><td>real                        </td><td>int                </td><td>real                     </td><td>int                </td><td>real                     </td><td>int                </td><td>real                     </td><td>int                </td><td>real                     </td><td>int                </td><td>real                     </td><td>int                </td><td>real                     </td></tr>\n",
              "<tr><td>mins   </td><td>0.0              </td><td>0.0              </td><td>0.0                           </td><td>0.0              </td><td>0.0                           </td><td>0.0              </td><td>0.0                           </td><td>-33.0             </td><td>-32.5                   </td><td>-33.0             </td><td>-32.333333333333336     </td><td>-33.0             </td><td>-31.5                   </td><td>-19.0             </td><td>-18.5                    </td><td>-19.0             </td><td>-18.666666666666668      </td><td>-19.0             </td><td>-18.5                    </td><td>991.0             </td><td>991.0                     </td><td>991.0             </td><td>991.3333333333334         </td><td>991.0             </td><td>991.75                    </td><td>              </td><td>              </td><td>              </td><td>0.45              </td><td>0.6699999999998757          </td><td>0.45              </td><td>0.5966666666663781          </td><td>0.45              </td><td>0.6699999999987535          </td><td>0.0                </td><td>0.0                      </td><td>0.0                </td><td>0.0                      </td><td>0.0                </td><td>0.0                      </td><td>0.0                </td><td>0.0                      </td><td>0.0                </td><td>0.0                      </td><td>0.0                </td><td>0.0                      </td></tr>\n",
              "<tr><td>mean   </td><td>93.36549932928058</td><td>93.36247395610361</td><td>93.36064731569459             </td><td>93.35882067528613</td><td>93.35874456526892             </td><td>93.35493906441785</td><td>93.35667294574304             </td><td>1.7743813682678187</td><td>1.774295744498676       </td><td>1.7742101207295118</td><td>1.774181579473128       </td><td>1.773953249422043 </td><td>1.7740317378771024      </td><td>12.154693609612686</td><td>12.154836315894626       </td><td>12.154979022176542</td><td>12.154998049680815       </td><td>12.15532151725317 </td><td>12.15516454034306        </td><td>1016.3997773781998</td><td>1016.3996917544328        </td><td>1016.3996061306625</td><td>1016.3995966169106        </td><td>1016.3994063418685</td><td>1016.3994919656368        </td><td>              </td><td>              </td><td>              </td><td>24.957655050375337</td><td>24.959479407483837          </td><td>24.96130376459178 </td><td>24.961363320680015          </td><td>24.965131147073134</td><td>24.96329080686061           </td><td>0.05748209036161772</td><td>0.05748209036161772      </td><td>0.05748209036161772</td><td>0.057482090361617694     </td><td>0.05748209036161772</td><td>0.0574749550475212       </td><td>0.20989239946342433</td><td>0.2098923994634244       </td><td>0.20989239946342433</td><td>0.20989239946342442      </td><td>0.20989239946342433</td><td>0.20989239946342433      </td></tr>\n",
              "<tr><td>maxs   </td><td>994.0            </td><td>994.0            </td><td>983.0                         </td><td>994.0            </td><td>865.3333333333334             </td><td>994.0            </td><td>855.0                         </td><td>28.0              </td><td>28.0                    </td><td>28.0              </td><td>28.0                    </td><td>28.0              </td><td>28.0                    </td><td>41.0              </td><td>41.0                     </td><td>41.0              </td><td>41.0                     </td><td>41.0              </td><td>40.75                    </td><td>1046.0            </td><td>1046.0                    </td><td>1046.0            </td><td>1046.0                    </td><td>1046.0            </td><td>1046.0                    </td><td>              </td><td>              </td><td>              </td><td>585.6             </td><td>583.5899999999997           </td><td>585.6             </td><td>581.58                      </td><td>585.6             </td><td>579.5699999999994           </td><td>27.0               </td><td>26.5                     </td><td>27.0               </td><td>26.0                     </td><td>27.0               </td><td>25.5                     </td><td>36.0               </td><td>35.5                     </td><td>36.0               </td><td>35.0                     </td><td>36.0               </td><td>34.5                     </td></tr>\n",
              "<tr><td>sigma  </td><td>91.91025864899358</td><td>91.91083022692456</td><td>90.816767204728               </td><td>91.91120230473103</td><td>89.97156220224014             </td><td>91.91130184370424</td><td>89.18544765954863             </td><td>14.494245647416877</td><td>14.478716729023043      </td><td>14.494479282813261</td><td>14.465956798069655      </td><td>14.494785419767135</td><td>14.453505854826703      </td><td>12.30718345069174 </td><td>12.284682250601287       </td><td>12.306924751796219</td><td>12.260385243735554       </td><td>12.306614297205664</td><td>12.23209869901723        </td><td>10.386615878686598</td><td>10.380773178783398        </td><td>10.386605980920418</td><td>10.374856748136967        </td><td>10.386584812040583</td><td>10.368012708638854        </td><td>              </td><td>              </td><td>              </td><td>51.31115782014467 </td><td>50.661545347005465          </td><td>51.314118858612034</td><td>50.15115419961667           </td><td>51.3175242597527  </td><td>49.67473886864784           </td><td>0.7738710029485413 </td><td>0.7544674396038666       </td><td>0.7738710029485413 </td><td>0.739272499343031        </td><td>0.7738710029485413 </td><td>0.7251850039981366       </td><td>1.4899906873477353 </td><td>1.4530405905633517       </td><td>1.4899906873477353 </td><td>1.4253262927082684       </td><td>1.4899906873477353 </td><td>1.4005950908345153       </td></tr>\n",
              "<tr><td>zeros  </td><td>1946             </td><td>1946             </td><td>1766                          </td><td>1946             </td><td>1680                          </td><td>1946             </td><td>1616                          </td><td>636               </td><td>344                     </td><td>636               </td><td>240                     </td><td>636               </td><td>178                     </td><td>882               </td><td>518                      </td><td>882               </td><td>376                      </td><td>882               </td><td>285                      </td><td>0                 </td><td>0                         </td><td>0                 </td><td>0                         </td><td>0                 </td><td>0                         </td><td>              </td><td>              </td><td>              </td><td>0                 </td><td>0                           </td><td>0                 </td><td>0                           </td><td>0                 </td><td>0                           </td><td>34706              </td><td>34649                    </td><td>34706              </td><td>34595                    </td><td>34706              </td><td>34544                    </td><td>33521              </td><td>33077                    </td><td>33521              </td><td>32712                    </td><td>33521              </td><td>32389                    </td></tr>\n",
              "<tr><td>missing</td><td>0                </td><td>0                </td><td>0                             </td><td>0                </td><td>0                             </td><td>0                </td><td>0                             </td><td>0                 </td><td>0                       </td><td>0                 </td><td>0                       </td><td>0                 </td><td>0                       </td><td>0                 </td><td>0                        </td><td>0                 </td><td>0                        </td><td>0                 </td><td>0                        </td><td>0                 </td><td>0                         </td><td>0                 </td><td>0                         </td><td>0                 </td><td>0                         </td><td>0             </td><td>0             </td><td>0             </td><td>0                 </td><td>0                           </td><td>0                 </td><td>0                           </td><td>0                 </td><td>0                           </td><td>0                  </td><td>0                        </td><td>0                  </td><td>0                        </td><td>0                  </td><td>0                        </td><td>0                  </td><td>0                        </td><td>0                  </td><td>0                        </td><td>0                  </td><td>0                        </td></tr>\n",
              "<tr><td>0      </td><td>129.0            </td><td>148.0            </td><td>153.5                         </td><td>159.0            </td><td>162.66666666666666            </td><td>181.0            </td><td>156.5                         </td><td>-15.0             </td><td>-13.0                   </td><td>-11.0             </td><td>-11.0                   </td><td>-7.0              </td><td>-10.0                   </td><td>-4.0              </td><td>-4.5                     </td><td>-5.0              </td><td>-4.666666666666667       </td><td>-5.0              </td><td>-4.75                    </td><td>1020.0            </td><td>1020.5                    </td><td>1021.0            </td><td>1021.0                    </td><td>1022.0            </td><td>1021.25                   </td><td>SE            </td><td>SE            </td><td>SE            </td><td>2.68              </td><td>3.125                       </td><td>3.57              </td><td>3.87                        </td><td>5.36              </td><td>4.465                       </td><td>0.0                </td><td>0.0                      </td><td>0.0                </td><td>0.3333333333333333       </td><td>1.0                </td><td>0.75                     </td><td>0.0                </td><td>0.0                      </td><td>0.0                </td><td>0.0                      </td><td>0.0                </td><td>0.0                      </td></tr>\n",
              "<tr><td>1      </td><td>148.0            </td><td>159.0            </td><td>170.0                         </td><td>181.0            </td><td>159.33333333333334            </td><td>138.0            </td><td>146.75                        </td><td>-11.0             </td><td>-9.0                    </td><td>-7.0              </td><td>-8.333333333333334      </td><td>-7.0              </td><td>-8.0                    </td><td>-5.0              </td><td>-5.0                     </td><td>-5.0              </td><td>-5.0                     </td><td>-5.0              </td><td>-5.25                    </td><td>1021.0            </td><td>1021.5                    </td><td>1022.0            </td><td>1021.6666666666666        </td><td>1022.0            </td><td>1021.75                   </td><td>SE            </td><td>SE            </td><td>SE            </td><td>3.57              </td><td>4.465                       </td><td>5.36              </td><td>5.06                        </td><td>6.25              </td><td>5.58                        </td><td>0.0                </td><td>0.5                      </td><td>1.0                </td><td>1.0                      </td><td>2.0                </td><td>1.5                      </td><td>0.0                </td><td>0.0                      </td><td>0.0                </td><td>0.0                      </td><td>0.0                </td><td>0.0                      </td></tr>\n",
              "<tr><td>2      </td><td>159.0            </td><td>181.0            </td><td>159.5                         </td><td>138.0            </td><td>142.66666666666666            </td><td>109.0            </td><td>133.25                        </td><td>-7.0              </td><td>-7.0                    </td><td>-7.0              </td><td>-7.0                    </td><td>-7.0              </td><td>-7.0                    </td><td>-5.0              </td><td>-5.0                     </td><td>-5.0              </td><td>-5.333333333333333       </td><td>-6.0              </td><td>-5.5                     </td><td>1022.0            </td><td>1022.0                    </td><td>1022.0            </td><td>1022.0                    </td><td>1022.0            </td><td>1022.25                   </td><td>SE            </td><td>SE            </td><td>SE            </td><td>5.36              </td><td>5.805                       </td><td>6.25              </td><td>6.25                        </td><td>7.14              </td><td>6.92                        </td><td>1.0                </td><td>1.5                      </td><td>2.0                </td><td>2.0                      </td><td>3.0                </td><td>2.5                      </td><td>0.0                </td><td>0.0                      </td><td>0.0                </td><td>0.0                      </td><td>0.0                </td><td>0.0                      </td></tr>\n",
              "<tr><td>3      </td><td>181.0            </td><td>138.0            </td><td>123.5                         </td><td>109.0            </td><td>117.33333333333331            </td><td>105.0            </td><td>119.0                         </td><td>-7.0              </td><td>-7.0                    </td><td>-7.0              </td><td>-7.0                    </td><td>-7.0              </td><td>-7.0                    </td><td>-5.0              </td><td>-5.5                     </td><td>-6.0              </td><td>-5.666666666666667       </td><td>-6.0              </td><td>-5.5                     </td><td>1022.0            </td><td>1022.0                    </td><td>1022.0            </td><td>1022.3333333333334        </td><td>1023.0            </td><td>1022.75                   </td><td>SE            </td><td>SE            </td><td>SE            </td><td>6.25              </td><td>6.695                       </td><td>7.14              </td><td>7.44                        </td><td>8.93              </td><td>8.26                        </td><td>2.0                </td><td>2.5                      </td><td>3.0                </td><td>3.0                      </td><td>4.0                </td><td>2.25                     </td><td>0.0                </td><td>0.0                      </td><td>0.0                </td><td>0.0                      </td><td>0.0                </td><td>0.0                      </td></tr>\n",
              "<tr><td>4      </td><td>138.0            </td><td>109.0            </td><td>107.0                         </td><td>105.0            </td><td>112.66666666666669            </td><td>124.0            </td><td>114.5                         </td><td>-7.0              </td><td>-7.0                    </td><td>-7.0              </td><td>-7.0                    </td><td>-7.0              </td><td>-7.25                   </td><td>-6.0              </td><td>-6.0                     </td><td>-6.0              </td><td>-5.666666666666667       </td><td>-5.0              </td><td>-5.75                    </td><td>1022.0            </td><td>1022.5                    </td><td>1023.0            </td><td>1023.0                    </td><td>1024.0            </td><td>1023.25                   </td><td>SE            </td><td>SE            </td><td>SE            </td><td>7.14              </td><td>8.035                       </td><td>8.93              </td><td>8.93                        </td><td>10.72             </td><td>9.825                       </td><td>3.0                </td><td>3.5                      </td><td>4.0                </td><td>2.3333333333333335       </td><td>0.0                </td><td>1.75                     </td><td>0.0                </td><td>0.0                      </td><td>0.0                </td><td>0.0                      </td><td>0.0                </td><td>0.0                      </td></tr>\n",
              "<tr><td>5      </td><td>109.0            </td><td>105.0            </td><td>114.5                         </td><td>124.0            </td><td>116.33333333333331            </td><td>120.0            </td><td>120.25                        </td><td>-7.0              </td><td>-7.0                    </td><td>-7.0              </td><td>-7.333333333333333      </td><td>-8.0              </td><td>-7.25                   </td><td>-6.0              </td><td>-5.5                     </td><td>-5.0              </td><td>-5.666666666666667       </td><td>-6.0              </td><td>-5.5                     </td><td>1023.0            </td><td>1023.5                    </td><td>1024.0            </td><td>1023.6666666666666        </td><td>1024.0            </td><td>1024.0                    </td><td>SE            </td><td>SE            </td><td>SE            </td><td>8.93              </td><td>9.825                       </td><td>10.72             </td><td>10.72                       </td><td>12.51             </td><td>11.614999999999998          </td><td>4.0                </td><td>2.0                      </td><td>0.0                </td><td>1.3333333333333333       </td><td>0.0                </td><td>1.0                      </td><td>0.0                </td><td>0.0                      </td><td>0.0                </td><td>0.0                      </td><td>0.0                </td><td>0.0                      </td></tr>\n",
              "<tr><td>6      </td><td>105.0            </td><td>124.0            </td><td>122.0                         </td><td>120.0            </td><td>125.33333333333331            </td><td>132.0            </td><td>129.0                         </td><td>-7.0              </td><td>-7.5                    </td><td>-8.0              </td><td>-7.333333333333333      </td><td>-7.0              </td><td>-7.25                   </td><td>-5.0              </td><td>-5.5                     </td><td>-6.0              </td><td>-5.333333333333333       </td><td>-5.0              </td><td>-5.25                    </td><td>1024.0            </td><td>1024.0                    </td><td>1024.0            </td><td>1024.3333333333333        </td><td>1025.0            </td><td>1024.75                   </td><td>SE            </td><td>SE            </td><td>SE            </td><td>10.72             </td><td>11.614999999999998          </td><td>12.51             </td><td>12.509999999999998          </td><td>14.3              </td><td>13.739999999999998          </td><td>0.0                </td><td>0.0                      </td><td>0.0                </td><td>0.0                      </td><td>0.0                </td><td>0.25                     </td><td>0.0                </td><td>0.0                      </td><td>0.0                </td><td>0.0                      </td><td>0.0                </td><td>0.0                      </td></tr>\n",
              "<tr><td>7      </td><td>124.0            </td><td>120.0            </td><td>126.0                         </td><td>132.0            </td><td>130.66666666666666            </td><td>140.0            </td><td>136.0                         </td><td>-8.0              </td><td>-7.5                    </td><td>-7.0              </td><td>-7.333333333333333      </td><td>-7.0              </td><td>-7.5                    </td><td>-6.0              </td><td>-5.5                     </td><td>-5.0              </td><td>-5.333333333333333       </td><td>-5.0              </td><td>-5.25                    </td><td>1024.0            </td><td>1024.5                    </td><td>1025.0            </td><td>1025.0                    </td><td>1026.0            </td><td>1025.25                   </td><td>SE            </td><td>SE            </td><td>SE            </td><td>12.51             </td><td>13.405                      </td><td>14.3              </td><td>14.746666666666664          </td><td>17.43             </td><td>16.2                        </td><td>0.0                </td><td>0.0                      </td><td>0.0                </td><td>0.3333333333333333       </td><td>1.0                </td><td>0.25                     </td><td>0.0                </td><td>0.0                      </td><td>0.0                </td><td>0.0                      </td><td>0.0                </td><td>0.0                      </td></tr>\n",
              "<tr><td>8      </td><td>120.0            </td><td>132.0            </td><td>136.0                         </td><td>140.0            </td><td>141.33333333333334            </td><td>152.0            </td><td>143.0                         </td><td>-7.0              </td><td>-7.0                    </td><td>-7.0              </td><td>-7.333333333333333      </td><td>-8.0              </td><td>-7.5                    </td><td>-5.0              </td><td>-5.0                     </td><td>-5.0              </td><td>-5.0                     </td><td>-5.0              </td><td>-5.0                     </td><td>1025.0            </td><td>1025.5                    </td><td>1026.0            </td><td>1025.6666666666667        </td><td>1026.0            </td><td>1025.75                   </td><td>SE            </td><td>SE            </td><td>SE            </td><td>14.3              </td><td>15.865000000000002          </td><td>17.43             </td><td>17.43                       </td><td>20.56             </td><td>18.994999999999997          </td><td>0.0                </td><td>0.5                      </td><td>1.0                </td><td>0.3333333333333333       </td><td>0.0                </td><td>0.25                     </td><td>0.0                </td><td>0.0                      </td><td>0.0                </td><td>0.0                      </td><td>0.0                </td><td>0.0                      </td></tr>\n",
              "<tr><td>9      </td><td>132.0            </td><td>140.0            </td><td>146.0                         </td><td>152.0            </td><td>146.66666666666666            </td><td>148.0            </td><td>151.0                         </td><td>-7.0              </td><td>-7.5                    </td><td>-8.0              </td><td>-7.666666666666667      </td><td>-8.0              </td><td>-7.75                   </td><td>-5.0              </td><td>-5.0                     </td><td>-5.0              </td><td>-5.0                     </td><td>-5.0              </td><td>-5.0                     </td><td>1026.0            </td><td>1026.0                    </td><td>1026.0            </td><td>1026.0                    </td><td>1026.0            </td><td>1025.75                   </td><td>SE            </td><td>SE            </td><td>SE            </td><td>17.43             </td><td>18.995000000000005          </td><td>20.56             </td><td>20.56                       </td><td>23.69             </td><td>22.3475                     </td><td>1.0                </td><td>0.5                      </td><td>0.0                </td><td>0.3333333333333333       </td><td>0.0                </td><td>0.25                     </td><td>0.0                </td><td>0.0                      </td><td>0.0                </td><td>0.0                      </td><td>0.0                </td><td>0.0                      </td></tr>\n",
              "</tbody>\n",
              "</table>"
            ]
          },
          "metadata": {
            "tags": []
          }
        }
      ]
    },
    {
      "metadata": {
        "id": "C356YVomMUdI",
        "colab_type": "text"
      },
      "cell_type": "markdown",
      "source": [
        "## Select response and features \n",
        "- y: target signal\n",
        "- X: feature matrix with lagged values"
      ]
    },
    {
      "metadata": {
        "id": "xfOkvlg_MUdL",
        "colab_type": "code",
        "colab": {}
      },
      "cell_type": "code",
      "source": [
        "y = 'pollution'\n",
        "X = hf_train.columns\n",
        "X.remove(y)"
      ],
      "execution_count": 0,
      "outputs": []
    },
    {
      "metadata": {
        "id": "6j_tr5G3MUdV",
        "colab_type": "code",
        "colab": {
          "base_uri": "https://localhost:8080/",
          "height": 748
        },
        "outputId": "5192cb8d-204a-4848-8f09-d30c1aa3f20f"
      },
      "cell_type": "code",
      "source": [
        "X"
      ],
      "execution_count": 21,
      "outputs": [
        {
          "output_type": "execute_result",
          "data": {
            "text/plain": [
              "['pollution_lag1',\n",
              " 'pollution_avg_window_length2',\n",
              " 'pollution_lag2',\n",
              " 'pollution_avg_window_length3',\n",
              " 'pollution_lag3',\n",
              " 'pollution_avg_window_length4',\n",
              " 'dew_lag1',\n",
              " 'dew_avg_window_length2',\n",
              " 'dew_lag2',\n",
              " 'dew_avg_window_length3',\n",
              " 'dew_lag3',\n",
              " 'dew_avg_window_length4',\n",
              " 'temp_lag1',\n",
              " 'temp_avg_window_length2',\n",
              " 'temp_lag2',\n",
              " 'temp_avg_window_length3',\n",
              " 'temp_lag3',\n",
              " 'temp_avg_window_length4',\n",
              " 'press_lag1',\n",
              " 'press_avg_window_length2',\n",
              " 'press_lag2',\n",
              " 'press_avg_window_length3',\n",
              " 'press_lag3',\n",
              " 'press_avg_window_length4',\n",
              " 'wnd_dir_lag1',\n",
              " 'wnd_dir_lag2',\n",
              " 'wnd_dir_lag3',\n",
              " 'wnd_spd_lag1',\n",
              " 'wnd_spd_avg_window_length2',\n",
              " 'wnd_spd_lag2',\n",
              " 'wnd_spd_avg_window_length3',\n",
              " 'wnd_spd_lag3',\n",
              " 'wnd_spd_avg_window_length4',\n",
              " 'snow_lag1',\n",
              " 'snow_avg_window_length2',\n",
              " 'snow_lag2',\n",
              " 'snow_avg_window_length3',\n",
              " 'snow_lag3',\n",
              " 'snow_avg_window_length4',\n",
              " 'rain_lag1',\n",
              " 'rain_avg_window_length2',\n",
              " 'rain_lag2',\n",
              " 'rain_avg_window_length3',\n",
              " 'rain_lag3',\n",
              " 'rain_avg_window_length4']"
            ]
          },
          "metadata": {
            "tags": []
          },
          "execution_count": 21
        }
      ]
    },
    {
      "metadata": {
        "id": "9SADhCIGMUdq",
        "colab_type": "text"
      },
      "cell_type": "markdown",
      "source": [
        "## Run AutoML"
      ]
    },
    {
      "metadata": {
        "id": "03TbZOX4MUdu",
        "colab_type": "code",
        "colab": {
          "base_uri": "https://localhost:8080/",
          "height": 33
        },
        "outputId": "a53fcb4c-2cac-400e-dc55-cd196042fb1c"
      },
      "cell_type": "code",
      "source": [
        "aml = H2OAutoML(max_runtime_secs = 600,\n",
        "                seed = 42)\n",
        "aml.train(x = X, \n",
        "          y = y,\n",
        "          training_frame = hf_train,\n",
        "          leaderboard_frame = hf_test)"
      ],
      "execution_count": 22,
      "outputs": [
        {
          "output_type": "stream",
          "text": [
            "AutoML progress: |████████████████████████████████████████████████████████| 100%\n"
          ],
          "name": "stdout"
        }
      ]
    },
    {
      "metadata": {
        "id": "Iw42hzH-MUd9",
        "colab_type": "text"
      },
      "cell_type": "markdown",
      "source": [
        "## Check the leaderboard\n",
        "- models are ranked by peformance on the test data since we specified a leadboard_frame"
      ]
    },
    {
      "metadata": {
        "id": "qPN2euhmMUeE",
        "colab_type": "code",
        "colab": {
          "base_uri": "https://localhost:8080/",
          "height": 141
        },
        "outputId": "20b5ba7c-62ec-406f-9634-109644e4cda6"
      },
      "cell_type": "code",
      "source": [
        "lb = aml.leaderboard\n",
        "\n",
        "lb"
      ],
      "execution_count": 23,
      "outputs": [
        {
          "output_type": "display_data",
          "data": {
            "text/html": [
              "<table>\n",
              "<thead>\n",
              "<tr><th>model_id                                           </th><th style=\"text-align: right;\">  mean_residual_deviance</th><th style=\"text-align: right;\">   rmse</th><th style=\"text-align: right;\">    mse</th><th style=\"text-align: right;\">    mae</th><th style=\"text-align: right;\">     rmsle</th></tr>\n",
              "</thead>\n",
              "<tbody>\n",
              "<tr><td>StackedEnsemble_AllModels_AutoML_20190224_160001   </td><td style=\"text-align: right;\">                 560.13 </td><td style=\"text-align: right;\">23.6671</td><td style=\"text-align: right;\">560.13 </td><td style=\"text-align: right;\">12.6952</td><td style=\"text-align: right;\">  0.454746</td></tr>\n",
              "<tr><td>StackedEnsemble_BestOfFamily_AutoML_20190224_160001</td><td style=\"text-align: right;\">                 560.13 </td><td style=\"text-align: right;\">23.6671</td><td style=\"text-align: right;\">560.13 </td><td style=\"text-align: right;\">12.6952</td><td style=\"text-align: right;\">  0.454746</td></tr>\n",
              "<tr><td>XGBoost_1_AutoML_20190224_160001                   </td><td style=\"text-align: right;\">                 574.076</td><td style=\"text-align: right;\">23.9599</td><td style=\"text-align: right;\">574.076</td><td style=\"text-align: right;\">12.5184</td><td style=\"text-align: right;\">  0.448085</td></tr>\n",
              "<tr><td>XRT_1_AutoML_20190224_160001                       </td><td style=\"text-align: right;\">                 576.801</td><td style=\"text-align: right;\">24.0167</td><td style=\"text-align: right;\">576.801</td><td style=\"text-align: right;\">12.7962</td><td style=\"text-align: right;\">  0.44649 </td></tr>\n",
              "<tr><td>DRF_1_AutoML_20190224_160001                       </td><td style=\"text-align: right;\">                 579.176</td><td style=\"text-align: right;\">24.0661</td><td style=\"text-align: right;\">579.176</td><td style=\"text-align: right;\">12.8207</td><td style=\"text-align: right;\">  0.448355</td></tr>\n",
              "<tr><td>GLM_grid_1_AutoML_20190224_160001_model_1          </td><td style=\"text-align: right;\">                 598.125</td><td style=\"text-align: right;\">24.4566</td><td style=\"text-align: right;\">598.125</td><td style=\"text-align: right;\">13.147 </td><td style=\"text-align: right;\">nan       </td></tr>\n",
              "</tbody>\n",
              "</table>"
            ]
          },
          "metadata": {
            "tags": []
          }
        },
        {
          "output_type": "execute_result",
          "data": {
            "text/plain": [
              ""
            ]
          },
          "metadata": {
            "tags": []
          },
          "execution_count": 23
        }
      ]
    },
    {
      "metadata": {
        "id": "yNPsptmuMUeS",
        "colab_type": "text"
      },
      "cell_type": "markdown",
      "source": [
        "## Select the top model"
      ]
    },
    {
      "metadata": {
        "id": "FNLIsKqUMUeX",
        "colab_type": "code",
        "colab": {}
      },
      "cell_type": "code",
      "source": [
        "leader_model = aml.leader"
      ],
      "execution_count": 0,
      "outputs": []
    },
    {
      "metadata": {
        "id": "-jw_3eISMUei",
        "colab_type": "text"
      },
      "cell_type": "markdown",
      "source": [
        "## Make predictions on the test data"
      ]
    },
    {
      "metadata": {
        "id": "QgfmCaRUMUeo",
        "colab_type": "code",
        "colab": {
          "base_uri": "https://localhost:8080/",
          "height": 33
        },
        "outputId": "7f0d23ad-8e55-43bc-e343-e90d6137ca37"
      },
      "cell_type": "code",
      "source": [
        "hf_test_predict = leader_model.predict(hf_test)"
      ],
      "execution_count": 25,
      "outputs": [
        {
          "output_type": "stream",
          "text": [
            "stackedensemble prediction progress: |████████████████████████████████████| 100%\n"
          ],
          "name": "stdout"
        }
      ]
    },
    {
      "metadata": {
        "id": "AvfwUpRLMUe9",
        "colab_type": "code",
        "colab": {
          "base_uri": "https://localhost:8080/",
          "height": 123
        },
        "outputId": "53e7bc79-aa1e-4b12-d8e5-93c2fc14ad6d"
      },
      "cell_type": "code",
      "source": [
        "hf_test_predict.head(5)"
      ],
      "execution_count": 26,
      "outputs": [
        {
          "output_type": "display_data",
          "data": {
            "text/html": [
              "<table>\n",
              "<thead>\n",
              "<tr><th style=\"text-align: right;\">  predict</th></tr>\n",
              "</thead>\n",
              "<tbody>\n",
              "<tr><td style=\"text-align: right;\">  22.9331</td></tr>\n",
              "<tr><td style=\"text-align: right;\">  21.2417</td></tr>\n",
              "<tr><td style=\"text-align: right;\">  24.6804</td></tr>\n",
              "<tr><td style=\"text-align: right;\">  27.7829</td></tr>\n",
              "<tr><td style=\"text-align: right;\">  57.0336</td></tr>\n",
              "</tbody>\n",
              "</table>"
            ]
          },
          "metadata": {
            "tags": []
          }
        },
        {
          "output_type": "execute_result",
          "data": {
            "text/plain": [
              ""
            ]
          },
          "metadata": {
            "tags": []
          },
          "execution_count": 26
        }
      ]
    },
    {
      "metadata": {
        "id": "q6jgTI53MUfJ",
        "colab_type": "code",
        "colab": {
          "base_uri": "https://localhost:8080/",
          "height": 191
        },
        "outputId": "f26ce2a1-5b61-4901-d599-703d758dc1fe"
      },
      "cell_type": "code",
      "source": [
        "df_results = pd.DataFrame()\n",
        "df_results['ground_truth'] = df_test['pollution'].reset_index(drop=True)\n",
        "df_results['predictions'] = h2o.as_list(hf_test_predict,use_pandas=True)\n",
        "df_results.head()"
      ],
      "execution_count": 27,
      "outputs": [
        {
          "output_type": "execute_result",
          "data": {
            "text/html": [
              "<div>\n",
              "<style scoped>\n",
              "    .dataframe tbody tr th:only-of-type {\n",
              "        vertical-align: middle;\n",
              "    }\n",
              "\n",
              "    .dataframe tbody tr th {\n",
              "        vertical-align: top;\n",
              "    }\n",
              "\n",
              "    .dataframe thead th {\n",
              "        text-align: right;\n",
              "    }\n",
              "</style>\n",
              "<table border=\"1\" class=\"dataframe\">\n",
              "  <thead>\n",
              "    <tr style=\"text-align: right;\">\n",
              "      <th></th>\n",
              "      <th>ground_truth</th>\n",
              "      <th>predictions</th>\n",
              "    </tr>\n",
              "  </thead>\n",
              "  <tbody>\n",
              "    <tr>\n",
              "      <th>0</th>\n",
              "      <td>18.0</td>\n",
              "      <td>22.933093</td>\n",
              "    </tr>\n",
              "    <tr>\n",
              "      <th>1</th>\n",
              "      <td>23.0</td>\n",
              "      <td>21.241658</td>\n",
              "    </tr>\n",
              "    <tr>\n",
              "      <th>2</th>\n",
              "      <td>20.0</td>\n",
              "      <td>24.680386</td>\n",
              "    </tr>\n",
              "    <tr>\n",
              "      <th>3</th>\n",
              "      <td>23.0</td>\n",
              "      <td>27.782896</td>\n",
              "    </tr>\n",
              "    <tr>\n",
              "      <th>4</th>\n",
              "      <td>24.0</td>\n",
              "      <td>57.033641</td>\n",
              "    </tr>\n",
              "  </tbody>\n",
              "</table>\n",
              "</div>"
            ],
            "text/plain": [
              "   ground_truth  predictions\n",
              "0          18.0    22.933093\n",
              "1          23.0    21.241658\n",
              "2          20.0    24.680386\n",
              "3          23.0    27.782896\n",
              "4          24.0    57.033641"
            ]
          },
          "metadata": {
            "tags": []
          },
          "execution_count": 27
        }
      ]
    },
    {
      "metadata": {
        "id": "3XKjc2MqMUfV",
        "colab_type": "text"
      },
      "cell_type": "markdown",
      "source": [
        "### Get R2 for this prediction"
      ]
    },
    {
      "metadata": {
        "id": "NsfHsn7DMUfY",
        "colab_type": "code",
        "colab": {
          "base_uri": "https://localhost:8080/",
          "height": 33
        },
        "outputId": "6dc21091-63ef-4531-dd62-7d42251017ef"
      },
      "cell_type": "code",
      "source": [
        "slope, intercept, r_value, p_value, std_err = stats.linregress(x=df_results['predictions'],y=df_results['ground_truth'])\n",
        "print('R2 = ',r_value*r_value)"
      ],
      "execution_count": 28,
      "outputs": [
        {
          "output_type": "stream",
          "text": [
            "R2 =  0.9369043171226586\n"
          ],
          "name": "stdout"
        }
      ]
    },
    {
      "metadata": {
        "id": "bdbBikC6MUfk",
        "colab_type": "code",
        "colab": {
          "base_uri": "https://localhost:8080/",
          "height": 290
        },
        "outputId": "ad59d57a-aceb-4d82-b88c-2674a862dd98"
      },
      "cell_type": "code",
      "source": [
        "plt.scatter(x=df_results['predictions'],y=df_results['ground_truth'],s=1)\n",
        "plt.xlabel('predictions',fontsize=18)\n",
        "plt.ylabel('ground_truth',fontsize=18)\n",
        "plt.show()"
      ],
      "execution_count": 29,
      "outputs": [
        {
          "output_type": "display_data",
          "data": {
            "image/png": "[encoded data removed]",
            "text/plain": [
              "<Figure size 432x288 with 1 Axes>"
            ]
          },
          "metadata": {
            "tags": []
          }
        }
      ]
    },
    {
      "metadata": {
        "id": "CyozxwmmMUfw",
        "colab_type": "code",
        "colab": {
          "base_uri": "https://localhost:8080/",
          "height": 268
        },
        "outputId": "3a489b34-9c83-47d9-e83b-4a682ba5b145"
      },
      "cell_type": "code",
      "source": [
        "plt.plot(df_results['ground_truth'])\n",
        "plt.plot(df_results['predictions'])\n",
        "plt.ylabel('pollution',fontsize=18)\n",
        "plt.legend(['ground_truth','prediction'])\n",
        "plt.show()"
      ],
      "execution_count": 30,
      "outputs": [
        {
          "output_type": "display_data",
          "data": {
            "image/png": "[encoded data removed]",
            "text/plain": [
              "<Figure size 432x288 with 1 Axes>"
            ]
          },
          "metadata": {
            "tags": []
          }
        }
      ]
    },
    {
      "metadata": {
        "id": "ONYXks5AMUf9",
        "colab_type": "text"
      },
      "cell_type": "markdown",
      "source": [
        "# Let's now try to predict 5 steps ahead\n",
        "- this time, we'll put everything into one notebook cell"
      ]
    },
    {
      "metadata": {
        "id": "akKJnov_MUgA",
        "colab_type": "code",
        "colab": {
          "base_uri": "https://localhost:8080/",
          "height": 98
        },
        "outputId": "1461ba2b-fde6-482d-ffd8-b0899e8bb8d6"
      },
      "cell_type": "code",
      "source": [
        "df2 = df.copy()\n",
        "num_lags = 5 # number of lags and window lenghts for mean aggregation\n",
        "delay = 5 # predict target five steps ahead\n",
        "for column in df2:\n",
        "    for lag in range(1,num_lags+1):\n",
        "        df2[column + '_lag' + str(lag)] = df2[column].shift(lag*-1-(delay-1))\n",
        "        if column != 'wnd_dir':\n",
        "            df2[column + '_avg_window_length' + str(lag+1)] = df2[column].shift(-1-(delay-1)).rolling(window=lag+1,center=False).mean().shift(1-(lag+1))\n",
        "\n",
        "df2.dropna(inplace=True) \n",
        "\n",
        "mask = (df2.columns.str.contains('pollution') | df2.columns.str.contains('lag') | df2.columns.str.contains('window'))\n",
        "df_processed = df2[df2.columns[mask]]\n",
        "\n",
        "df_processed.reset_index(drop=True,inplace=True)\n",
        "df_train = df_processed.loc[:int(df_processed.shape[0]*0.8),:]\n",
        "df_test = df_processed.loc[int(df_processed.shape[0]*0.8):,:]\n",
        "\n",
        "hf_train = h2o.H2OFrame(df_train)\n",
        "hf_test = h2o.H2OFrame(df_test)\n",
        "\n",
        "y = 'pollution'\n",
        "x = hf_train.columns\n",
        "x.remove(y)\n",
        "\n",
        "aml = H2OAutoML(max_runtime_secs = 600,\n",
        "                seed = 42)\n",
        "aml.train(x = x, \n",
        "          y = y,\n",
        "          training_frame = hf_train,\n",
        "          leaderboard_frame = hf_test)\n",
        "\n",
        "leader_model = aml.leader\n",
        "\n",
        "hf_test_predict = leader_model.predict(hf_test)\n",
        "\n",
        "df_results = pd.DataFrame()\n",
        "df_results['ground_truth'] = df_test['pollution'].reset_index(drop=True)\n",
        "df_results['predictions'] = h2o.as_list(hf_test_predict,use_pandas=True)\n",
        "\n",
        "slope, intercept, r_value, p_value, std_err = stats.linregress(x=df_results['predictions'],y=df_results['ground_truth'])\n",
        "print('R2 = ',r_value*r_value)\n",
        "\n"
      ],
      "execution_count": 31,
      "outputs": [
        {
          "output_type": "stream",
          "text": [
            "Parse progress: |█████████████████████████████████████████████████████████| 100%\n",
            "Parse progress: |█████████████████████████████████████████████████████████| 100%\n",
            "AutoML progress: |████████████████████████████████████████████████████████| 100%\n",
            "drf prediction progress: |████████████████████████████████████████████████| 100%\n",
            "R2 =  0.6740027842197897\n"
          ],
          "name": "stdout"
        }
      ]
    },
    {
      "metadata": {
        "id": "VXNX-A5QMUgn",
        "colab_type": "code",
        "colab": {
          "base_uri": "https://localhost:8080/",
          "height": 268
        },
        "outputId": "94b0ce64-2014-4060-98de-f1d3567ee743"
      },
      "cell_type": "code",
      "source": [
        "plt.scatter(x=df_results['predictions'],y=df_results['ground_truth'],s=1)\n",
        "plt.show()"
      ],
      "execution_count": 32,
      "outputs": [
        {
          "output_type": "display_data",
          "data": {
            "image/png": "[encoded data removed]",
            "text/plain": [
              "<Figure size 432x288 with 1 Axes>"
            ]
          },
          "metadata": {
            "tags": []
          }
        }
      ]
    },
    {
      "metadata": {
        "id": "hLedAZCYMUg-",
        "colab_type": "code",
        "colab": {
          "base_uri": "https://localhost:8080/",
          "height": 268
        },
        "outputId": "39b55cb6-1f7c-448b-eefb-20b79628485b"
      },
      "cell_type": "code",
      "source": [
        "plt.plot(df_results['ground_truth'])\n",
        "plt.plot(df_results['predictions'])\n",
        "plt.show()"
      ],
      "execution_count": 33,
      "outputs": [
        {
          "output_type": "display_data",
          "data": {
            "image/png": "[encoded data removed]",
            "text/plain": [
              "<Figure size 432x288 with 1 Axes>"
            ]
          },
          "metadata": {
            "tags": []
          }
        }
      ]
    },
    {
      "metadata": {
        "id": "haAz1k1zMUhh",
        "colab_type": "text"
      },
      "cell_type": "markdown",
      "source": [
        "## Things to Try:\n",
        "- compare with univarate model\n",
        "- compare with LSTM"
      ]
    },
    {
      "metadata": {
        "id": "ahNGT3aYMUhv",
        "colab_type": "text"
      },
      "cell_type": "markdown",
      "source": [
        "## Close h2o session"
      ]
    },
    {
      "metadata": {
        "id": "qUWMb6leMUh8",
        "colab_type": "code",
        "colab": {
          "base_uri": "https://localhost:8080/",
          "height": 33
        },
        "outputId": "ce614f70-4e24-474b-802c-0b6082ac3fef"
      },
      "cell_type": "code",
      "source": [
        "h2o.cluster().shutdown()"
      ],
      "execution_count": 34,
      "outputs": [
        {
          "output_type": "stream",
          "text": [
            "H2O session _sid_80c8 closed.\n"
          ],
          "name": "stdout"
        }
      ]
    }
  ]
}