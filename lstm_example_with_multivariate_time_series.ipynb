{
 "cells": [
  {
   "cell_type": "markdown",
   "metadata": {
    "colab_type": "text",
    "id": "EPkQkTqhjabZ"
   },
   "source": [
    "# LSTM example with multivariate time series\n",
    "- the feature matrix consists of lags of the target signal and lags of other features\n",
    "- keras LSTM model is used to forecast the target signal\n",
    "- for info on the dataset used and the methodology see: https://machinelearningmastery.com/multivariate-time-series-forecasting-lstms-keras/\n",
    "- it uses a data generator for train/valid/test data\n",
    "    - this will help for large time-series datasets with many features that can cause memory problems\n",
    "- don't need to add lags to dataframe; the generator will take care of it\n",
    "- if you want lagged aggregation, just use add columns with pandas' rolling() and mean() or other agg method\n",
    "- the model was trained on a free GPU from https://colab.research.google.com\n",
    "    - LSTMs don't get the same kind of training acceleration from GPUs as CNNs (and LSTMs can even run slower on GPUs)\n",
    "    - However this notebook uses CuDNNLSTM layers which provide accelerated preformance on GPUs\n",
    "* `TODO`: replace generator function with new  **keras.preprocessing.sequence.TimeseriesGenerator**"
   ]
  },
  {
   "cell_type": "markdown",
   "metadata": {
    "colab_type": "text",
    "id": "DBL1nFtWjaba"
   },
   "source": [
    "# Import Dependencies"
   ]
  },
  {
   "cell_type": "code",
   "execution_count": 0,
   "metadata": {
    "colab": {},
    "colab_type": "code",
    "id": "FLzogEmbjabc"
   },
   "outputs": [],
   "source": [
    "#from keras.preprocessing.sequence import TimeseriesGenerator\n",
    "from sklearn.preprocessing import MinMaxScaler\n",
    "from sklearn.preprocessing import LabelEncoder\n",
    "from sklearn.metrics import mean_squared_error\n",
    "from keras.models import Sequential\n",
    "from keras.layers import LSTM, CuDNNLSTM\n",
    "from keras.layers import Dropout\n",
    "from keras.models import Model\n",
    "from keras.layers import Input, Dense\n",
    "from keras.models import load_model\n",
    "from keras.callbacks import EarlyStopping, ModelCheckpoint\n",
    "import keras.backend as K\n",
    "\n",
    "import numpy as np\n",
    "import pandas as pd\n",
    "from scipy import stats\n",
    "import matplotlib.pyplot as plt"
   ]
  },
  {
   "cell_type": "markdown",
   "metadata": {
    "colab_type": "text",
    "id": "s33SswXUjabh"
   },
   "source": [
    "## Read pollution.csv into pandas df\n",
    "- set date as index\n",
    "- display first 5 rows\n",
    "- the Air Pollution data is discussed here: https://machinelearningmastery.com/multivariate-time-series-forecasting-lstms-keras/\n",
    "- this is a dataset that reports on the weather and the level of pollution each hour for five years at the US embassy in Beijing, China.\n",
    "- we can use this data and frame a forecasting problem where, given the weather conditions and pollution for prior hours, we forecast the pollution at the next hour."
   ]
  },
  {
   "cell_type": "code",
   "execution_count": 81,
   "metadata": {
    "colab": {
     "base_uri": "https://localhost:8080/",
     "height": 225
    },
    "colab_type": "code",
    "id": "C8Nlpd_0jabi",
    "outputId": "1123c536-e4a7-43d5-c9e3-8b06eb631cc3"
   },
   "outputs": [
    {
     "data": {
      "text/html": [
       "<div>\n",
       "<style scoped>\n",
       "    .dataframe tbody tr th:only-of-type {\n",
       "        vertical-align: middle;\n",
       "    }\n",
       "\n",
       "    .dataframe tbody tr th {\n",
       "        vertical-align: top;\n",
       "    }\n",
       "\n",
       "    .dataframe thead th {\n",
       "        text-align: right;\n",
       "    }\n",
       "</style>\n",
       "<table border=\"1\" class=\"dataframe\">\n",
       "  <thead>\n",
       "    <tr style=\"text-align: right;\">\n",
       "      <th></th>\n",
       "      <th>pollution</th>\n",
       "      <th>dew</th>\n",
       "      <th>temp</th>\n",
       "      <th>press</th>\n",
       "      <th>wnd_dir</th>\n",
       "      <th>wnd_spd</th>\n",
       "      <th>snow</th>\n",
       "      <th>rain</th>\n",
       "    </tr>\n",
       "    <tr>\n",
       "      <th>date</th>\n",
       "      <th></th>\n",
       "      <th></th>\n",
       "      <th></th>\n",
       "      <th></th>\n",
       "      <th></th>\n",
       "      <th></th>\n",
       "      <th></th>\n",
       "      <th></th>\n",
       "    </tr>\n",
       "  </thead>\n",
       "  <tbody>\n",
       "    <tr>\n",
       "      <th>2010-01-02 00:00:00</th>\n",
       "      <td>129.0</td>\n",
       "      <td>-16</td>\n",
       "      <td>-4.0</td>\n",
       "      <td>1020.0</td>\n",
       "      <td>SE</td>\n",
       "      <td>1.79</td>\n",
       "      <td>0</td>\n",
       "      <td>0</td>\n",
       "    </tr>\n",
       "    <tr>\n",
       "      <th>2010-01-02 01:00:00</th>\n",
       "      <td>148.0</td>\n",
       "      <td>-15</td>\n",
       "      <td>-4.0</td>\n",
       "      <td>1020.0</td>\n",
       "      <td>SE</td>\n",
       "      <td>2.68</td>\n",
       "      <td>0</td>\n",
       "      <td>0</td>\n",
       "    </tr>\n",
       "    <tr>\n",
       "      <th>2010-01-02 02:00:00</th>\n",
       "      <td>159.0</td>\n",
       "      <td>-11</td>\n",
       "      <td>-5.0</td>\n",
       "      <td>1021.0</td>\n",
       "      <td>SE</td>\n",
       "      <td>3.57</td>\n",
       "      <td>0</td>\n",
       "      <td>0</td>\n",
       "    </tr>\n",
       "    <tr>\n",
       "      <th>2010-01-02 03:00:00</th>\n",
       "      <td>181.0</td>\n",
       "      <td>-7</td>\n",
       "      <td>-5.0</td>\n",
       "      <td>1022.0</td>\n",
       "      <td>SE</td>\n",
       "      <td>5.36</td>\n",
       "      <td>1</td>\n",
       "      <td>0</td>\n",
       "    </tr>\n",
       "    <tr>\n",
       "      <th>2010-01-02 04:00:00</th>\n",
       "      <td>138.0</td>\n",
       "      <td>-7</td>\n",
       "      <td>-5.0</td>\n",
       "      <td>1022.0</td>\n",
       "      <td>SE</td>\n",
       "      <td>6.25</td>\n",
       "      <td>2</td>\n",
       "      <td>0</td>\n",
       "    </tr>\n",
       "  </tbody>\n",
       "</table>\n",
       "</div>"
      ],
      "text/plain": [
       "                     pollution  dew  temp   press wnd_dir  wnd_spd  snow  rain\n",
       "date                                                                          \n",
       "2010-01-02 00:00:00      129.0  -16  -4.0  1020.0      SE     1.79     0     0\n",
       "2010-01-02 01:00:00      148.0  -15  -4.0  1020.0      SE     2.68     0     0\n",
       "2010-01-02 02:00:00      159.0  -11  -5.0  1021.0      SE     3.57     0     0\n",
       "2010-01-02 03:00:00      181.0   -7  -5.0  1022.0      SE     5.36     1     0\n",
       "2010-01-02 04:00:00      138.0   -7  -5.0  1022.0      SE     6.25     2     0"
      ]
     },
     "execution_count": 81,
     "metadata": {
      "tags": []
     },
     "output_type": "execute_result"
    }
   ],
   "source": [
    "df = pd.read_csv('https://raw.githubusercontent.com/sagarmk/Forecasting-on-Air-pollution-with-RNN-LSTM/master/pollution.csv',index_col=0)\n",
    "\n",
    "df.head()"
   ]
  },
  {
   "cell_type": "code",
   "execution_count": 82,
   "metadata": {
    "colab": {
     "base_uri": "https://localhost:8080/",
     "height": 34
    },
    "colab_type": "code",
    "id": "C2AnH2fjjabm",
    "outputId": "e8a1ca24-8849-4ab9-e5ff-90ffa4bd91c3"
   },
   "outputs": [
    {
     "name": "stdout",
     "output_type": "stream",
     "text": [
      "number of rows =  43800\n"
     ]
    }
   ],
   "source": [
    "print('number of rows = ', df.shape[0])"
   ]
  },
  {
   "cell_type": "markdown",
   "metadata": {},
   "source": [
    "## Plot the data\n",
    "- for this step, we'll use the same code used here: https://machinelearningmastery.com/multivariate-time-series-forecasting-lstms-keras/"
   ]
  },
  {
   "cell_type": "code",
   "execution_count": 83,
   "metadata": {
    "colab": {
     "base_uri": "https://localhost:8080/",
     "height": 349
    },
    "colab_type": "code",
    "id": "BrALNU0Sjabp",
    "outputId": "23eaefce-bf52-4e34-9327-336ba5878878"
   },
   "outputs": [
    {
     "data": {
      "image/png": "[encoded data removed]",
      "text/plain": [
       "<matplotlib.figure.Figure at 0x7f55c23414a8>"
      ]
     },
     "metadata": {
      "tags": []
     },
     "output_type": "display_data"
    }
   ],
   "source": [
    "# specify columns to plot\n",
    "values = df.values\n",
    "groups = [0, 1, 2, 3, 5, 6, 7]\n",
    "i = 1\n",
    "# plot each column\n",
    "plt.figure()\n",
    "for group in groups:\n",
    "    plt.subplot(len(groups), 1, i)\n",
    "    plt.plot(values[:, group])\n",
    "    plt.title(df.columns[group], y=0.5, loc='right')\n",
    "    i += 1\n",
    "plt.show()"
   ]
  },
  {
   "cell_type": "markdown",
   "metadata": {
    "colab_type": "text",
    "id": "9W--5Nfzjabs"
   },
   "source": [
    "## One-hot-encode ['wnd_dir'] column\n",
    "- wind_dir column is categorical\n",
    "- use pd.get_dummies to preform this on pandas dataframe"
   ]
  },
  {
   "cell_type": "code",
   "execution_count": 84,
   "metadata": {
    "colab": {
     "base_uri": "https://localhost:8080/",
     "height": 34
    },
    "colab_type": "code",
    "id": "0BGlX37Yjabt",
    "outputId": "aa5d83e0-6379-43be-f150-27190ec59a9a"
   },
   "outputs": [
    {
     "data": {
      "text/plain": [
       "['SE', 'cv', 'NW', 'NE']"
      ]
     },
     "execution_count": 84,
     "metadata": {
      "tags": []
     },
     "output_type": "execute_result"
    }
   ],
   "source": [
    "list(df['wnd_dir'].unique())"
   ]
  },
  {
   "cell_type": "code",
   "execution_count": 85,
   "metadata": {
    "colab": {
     "base_uri": "https://localhost:8080/",
     "height": 118
    },
    "colab_type": "code",
    "id": "WFfphlGwjabw",
    "outputId": "ce081e6a-596a-4bfc-c22e-ca27960c8b66"
   },
   "outputs": [
    {
     "data": {
      "text/plain": [
       "wnd_dir\n",
       "NE     4996\n",
       "NW    14130\n",
       "SE    15290\n",
       "cv     9384\n",
       "Name: wnd_dir, dtype: int64"
      ]
     },
     "execution_count": 85,
     "metadata": {
      "tags": []
     },
     "output_type": "execute_result"
    }
   ],
   "source": [
    "df.groupby('wnd_dir')['wnd_dir'].count()"
   ]
  },
  {
   "cell_type": "code",
   "execution_count": 0,
   "metadata": {
    "colab": {},
    "colab_type": "code",
    "id": "94pPvyDMjabz"
   },
   "outputs": [],
   "source": [
    "df = pd.concat([df,pd.get_dummies(df['wnd_dir'], prefix='wnd_dir')],axis=1)\n",
    "df.drop(['wnd_dir'],axis=1, inplace=True)"
   ]
  },
  {
   "cell_type": "code",
   "execution_count": 87,
   "metadata": {
    "colab": {
     "base_uri": "https://localhost:8080/",
     "height": 225
    },
    "colab_type": "code",
    "id": "tuOHEVIYjab3",
    "outputId": "8f4d4bf7-ae63-4fa9-ba4b-1670ee70fd75"
   },
   "outputs": [
    {
     "data": {
      "text/html": [
       "<div>\n",
       "<style scoped>\n",
       "    .dataframe tbody tr th:only-of-type {\n",
       "        vertical-align: middle;\n",
       "    }\n",
       "\n",
       "    .dataframe tbody tr th {\n",
       "        vertical-align: top;\n",
       "    }\n",
       "\n",
       "    .dataframe thead th {\n",
       "        text-align: right;\n",
       "    }\n",
       "</style>\n",
       "<table border=\"1\" class=\"dataframe\">\n",
       "  <thead>\n",
       "    <tr style=\"text-align: right;\">\n",
       "      <th></th>\n",
       "      <th>pollution</th>\n",
       "      <th>dew</th>\n",
       "      <th>temp</th>\n",
       "      <th>press</th>\n",
       "      <th>wnd_spd</th>\n",
       "      <th>snow</th>\n",
       "      <th>rain</th>\n",
       "      <th>wnd_dir_NE</th>\n",
       "      <th>wnd_dir_NW</th>\n",
       "      <th>wnd_dir_SE</th>\n",
       "      <th>wnd_dir_cv</th>\n",
       "    </tr>\n",
       "    <tr>\n",
       "      <th>date</th>\n",
       "      <th></th>\n",
       "      <th></th>\n",
       "      <th></th>\n",
       "      <th></th>\n",
       "      <th></th>\n",
       "      <th></th>\n",
       "      <th></th>\n",
       "      <th></th>\n",
       "      <th></th>\n",
       "      <th></th>\n",
       "      <th></th>\n",
       "    </tr>\n",
       "  </thead>\n",
       "  <tbody>\n",
       "    <tr>\n",
       "      <th>2010-01-02 00:00:00</th>\n",
       "      <td>129.0</td>\n",
       "      <td>-16</td>\n",
       "      <td>-4.0</td>\n",
       "      <td>1020.0</td>\n",
       "      <td>1.79</td>\n",
       "      <td>0</td>\n",
       "      <td>0</td>\n",
       "      <td>0</td>\n",
       "      <td>0</td>\n",
       "      <td>1</td>\n",
       "      <td>0</td>\n",
       "    </tr>\n",
       "    <tr>\n",
       "      <th>2010-01-02 01:00:00</th>\n",
       "      <td>148.0</td>\n",
       "      <td>-15</td>\n",
       "      <td>-4.0</td>\n",
       "      <td>1020.0</td>\n",
       "      <td>2.68</td>\n",
       "      <td>0</td>\n",
       "      <td>0</td>\n",
       "      <td>0</td>\n",
       "      <td>0</td>\n",
       "      <td>1</td>\n",
       "      <td>0</td>\n",
       "    </tr>\n",
       "    <tr>\n",
       "      <th>2010-01-02 02:00:00</th>\n",
       "      <td>159.0</td>\n",
       "      <td>-11</td>\n",
       "      <td>-5.0</td>\n",
       "      <td>1021.0</td>\n",
       "      <td>3.57</td>\n",
       "      <td>0</td>\n",
       "      <td>0</td>\n",
       "      <td>0</td>\n",
       "      <td>0</td>\n",
       "      <td>1</td>\n",
       "      <td>0</td>\n",
       "    </tr>\n",
       "    <tr>\n",
       "      <th>2010-01-02 03:00:00</th>\n",
       "      <td>181.0</td>\n",
       "      <td>-7</td>\n",
       "      <td>-5.0</td>\n",
       "      <td>1022.0</td>\n",
       "      <td>5.36</td>\n",
       "      <td>1</td>\n",
       "      <td>0</td>\n",
       "      <td>0</td>\n",
       "      <td>0</td>\n",
       "      <td>1</td>\n",
       "      <td>0</td>\n",
       "    </tr>\n",
       "    <tr>\n",
       "      <th>2010-01-02 04:00:00</th>\n",
       "      <td>138.0</td>\n",
       "      <td>-7</td>\n",
       "      <td>-5.0</td>\n",
       "      <td>1022.0</td>\n",
       "      <td>6.25</td>\n",
       "      <td>2</td>\n",
       "      <td>0</td>\n",
       "      <td>0</td>\n",
       "      <td>0</td>\n",
       "      <td>1</td>\n",
       "      <td>0</td>\n",
       "    </tr>\n",
       "  </tbody>\n",
       "</table>\n",
       "</div>"
      ],
      "text/plain": [
       "                     pollution  dew  temp   press  wnd_spd  snow  rain  \\\n",
       "date                                                                     \n",
       "2010-01-02 00:00:00      129.0  -16  -4.0  1020.0     1.79     0     0   \n",
       "2010-01-02 01:00:00      148.0  -15  -4.0  1020.0     2.68     0     0   \n",
       "2010-01-02 02:00:00      159.0  -11  -5.0  1021.0     3.57     0     0   \n",
       "2010-01-02 03:00:00      181.0   -7  -5.0  1022.0     5.36     1     0   \n",
       "2010-01-02 04:00:00      138.0   -7  -5.0  1022.0     6.25     2     0   \n",
       "\n",
       "                     wnd_dir_NE  wnd_dir_NW  wnd_dir_SE  wnd_dir_cv  \n",
       "date                                                                 \n",
       "2010-01-02 00:00:00           0           0           1           0  \n",
       "2010-01-02 01:00:00           0           0           1           0  \n",
       "2010-01-02 02:00:00           0           0           1           0  \n",
       "2010-01-02 03:00:00           0           0           1           0  \n",
       "2010-01-02 04:00:00           0           0           1           0  "
      ]
     },
     "execution_count": 87,
     "metadata": {
      "tags": []
     },
     "output_type": "execute_result"
    }
   ],
   "source": [
    "df.head()"
   ]
  },
  {
   "cell_type": "markdown",
   "metadata": {
    "colab_type": "text",
    "id": "9gEhTYz_nTuq"
   },
   "source": [
    "## we'll drop the date index\n",
    "- there's no missing timestamps, so we won't be needing it"
   ]
  },
  {
   "cell_type": "code",
   "execution_count": 0,
   "metadata": {
    "colab": {},
    "colab_type": "code",
    "id": "n0fce_CPnSDs"
   },
   "outputs": [],
   "source": [
    "df = df.reset_index(drop=True)"
   ]
  },
  {
   "cell_type": "markdown",
   "metadata": {
    "colab_type": "text",
    "id": "r2HSGqZ5jab6"
   },
   "source": [
    "## Split the Data\n",
    "- split the data sequentially mainting chronological order\n",
    "- split 80/20 training/test\n",
    "    - we will split-off a validation set from the training set later"
   ]
  },
  {
   "cell_type": "code",
   "execution_count": 0,
   "metadata": {
    "colab": {},
    "colab_type": "code",
    "id": "T7BQqFjcjab7"
   },
   "outputs": [],
   "source": [
    "df_train = df.loc[:int(df.shape[0]*0.8),:]\n",
    "df_test = df.loc[int(df.shape[0]*0.8):,:]"
   ]
  },
  {
   "cell_type": "markdown",
   "metadata": {
    "colab_type": "text",
    "id": "zhK1_lGWktTu"
   },
   "source": [
    "## Plot the train/test split"
   ]
  },
  {
   "cell_type": "code",
   "execution_count": 90,
   "metadata": {
    "colab": {
     "base_uri": "https://localhost:8080/",
     "height": 347
    },
    "colab_type": "code",
    "id": "JO0JTArRksHV",
    "outputId": "f0ef557e-c094-4854-cef5-e29b30597cb4"
   },
   "outputs": [
    {
     "data": {
      "image/png": "[encoded data removed]",
      "text/plain": [
       "<matplotlib.figure.Figure at 0x7f55c233d438>"
      ]
     },
     "metadata": {
      "tags": []
     },
     "output_type": "display_data"
    }
   ],
   "source": [
    "plt.plot(df_train.index,df_train['pollution'])\n",
    "plt.plot(df_test.index,df_test['pollution'])\n",
    "plt.ylabel('pollution',fontsize=18)\n",
    "plt.legend(['train','test'])\n",
    "plt.show()"
   ]
  },
  {
   "cell_type": "markdown",
   "metadata": {
    "colab_type": "text",
    "id": "Yy1c-Q0pjab-"
   },
   "source": [
    "## Normalize the Data\n",
    "- for available scalers see: http://scikit-learn.org/stable/auto_examples/preprocessing/plot_all_scaling.html#sphx-glr-auto-examples-preprocessing-plot-all-scaling-py\n",
    "- becareful of outliers when scaling!\n",
    "- perform the normalization on the pandas dataframe"
   ]
  },
  {
   "cell_type": "code",
   "execution_count": 92,
   "metadata": {
    "colab": {
     "base_uri": "https://localhost:8080/",
     "height": 282
    },
    "colab_type": "code",
    "id": "pRVR4nPpjab-",
    "outputId": "8034ff8e-fe74-473b-f067-56d6a4d07194"
   },
   "outputs": [
    {
     "name": "stderr",
     "output_type": "stream",
     "text": [
      "/usr/local/lib/python3.6/dist-packages/sklearn/preprocessing/data.py:323: DataConversionWarning: Data with input dtype int64, float64 were all converted to float64 by MinMaxScaler.\n",
      "  return self.partial_fit(X, y)\n",
      "/usr/local/lib/python3.6/dist-packages/sklearn/preprocessing/data.py:323: DataConversionWarning: Data with input dtype int64, float64 were all converted to float64 by MinMaxScaler.\n",
      "  return self.partial_fit(X, y)\n"
     ]
    },
    {
     "data": {
      "text/html": [
       "<div>\n",
       "<style scoped>\n",
       "    .dataframe tbody tr th:only-of-type {\n",
       "        vertical-align: middle;\n",
       "    }\n",
       "\n",
       "    .dataframe tbody tr th {\n",
       "        vertical-align: top;\n",
       "    }\n",
       "\n",
       "    .dataframe thead th {\n",
       "        text-align: right;\n",
       "    }\n",
       "</style>\n",
       "<table border=\"1\" class=\"dataframe\">\n",
       "  <thead>\n",
       "    <tr style=\"text-align: right;\">\n",
       "      <th></th>\n",
       "      <th>pollution</th>\n",
       "      <th>dew</th>\n",
       "      <th>temp</th>\n",
       "      <th>press</th>\n",
       "      <th>wnd_spd</th>\n",
       "      <th>snow</th>\n",
       "      <th>rain</th>\n",
       "      <th>wnd_dir_NE</th>\n",
       "      <th>wnd_dir_NW</th>\n",
       "      <th>wnd_dir_SE</th>\n",
       "      <th>wnd_dir_cv</th>\n",
       "    </tr>\n",
       "  </thead>\n",
       "  <tbody>\n",
       "    <tr>\n",
       "      <th>0</th>\n",
       "      <td>0.129779</td>\n",
       "      <td>0.278689</td>\n",
       "      <td>0.250000</td>\n",
       "      <td>0.527273</td>\n",
       "      <td>0.002290</td>\n",
       "      <td>0.000000</td>\n",
       "      <td>0.0</td>\n",
       "      <td>0</td>\n",
       "      <td>0</td>\n",
       "      <td>1</td>\n",
       "      <td>0</td>\n",
       "    </tr>\n",
       "    <tr>\n",
       "      <th>1</th>\n",
       "      <td>0.148893</td>\n",
       "      <td>0.295082</td>\n",
       "      <td>0.250000</td>\n",
       "      <td>0.527273</td>\n",
       "      <td>0.003811</td>\n",
       "      <td>0.000000</td>\n",
       "      <td>0.0</td>\n",
       "      <td>0</td>\n",
       "      <td>0</td>\n",
       "      <td>1</td>\n",
       "      <td>0</td>\n",
       "    </tr>\n",
       "    <tr>\n",
       "      <th>2</th>\n",
       "      <td>0.159960</td>\n",
       "      <td>0.360656</td>\n",
       "      <td>0.233333</td>\n",
       "      <td>0.545455</td>\n",
       "      <td>0.005332</td>\n",
       "      <td>0.000000</td>\n",
       "      <td>0.0</td>\n",
       "      <td>0</td>\n",
       "      <td>0</td>\n",
       "      <td>1</td>\n",
       "      <td>0</td>\n",
       "    </tr>\n",
       "    <tr>\n",
       "      <th>3</th>\n",
       "      <td>0.182093</td>\n",
       "      <td>0.426230</td>\n",
       "      <td>0.233333</td>\n",
       "      <td>0.563636</td>\n",
       "      <td>0.008391</td>\n",
       "      <td>0.037037</td>\n",
       "      <td>0.0</td>\n",
       "      <td>0</td>\n",
       "      <td>0</td>\n",
       "      <td>1</td>\n",
       "      <td>0</td>\n",
       "    </tr>\n",
       "    <tr>\n",
       "      <th>4</th>\n",
       "      <td>0.138833</td>\n",
       "      <td>0.426230</td>\n",
       "      <td>0.233333</td>\n",
       "      <td>0.563636</td>\n",
       "      <td>0.009912</td>\n",
       "      <td>0.074074</td>\n",
       "      <td>0.0</td>\n",
       "      <td>0</td>\n",
       "      <td>0</td>\n",
       "      <td>1</td>\n",
       "      <td>0</td>\n",
       "    </tr>\n",
       "  </tbody>\n",
       "</table>\n",
       "</div>"
      ],
      "text/plain": [
       "   pollution       dew      temp     press   wnd_spd      snow  rain  \\\n",
       "0   0.129779  0.278689  0.250000  0.527273  0.002290  0.000000   0.0   \n",
       "1   0.148893  0.295082  0.250000  0.527273  0.003811  0.000000   0.0   \n",
       "2   0.159960  0.360656  0.233333  0.545455  0.005332  0.000000   0.0   \n",
       "3   0.182093  0.426230  0.233333  0.563636  0.008391  0.037037   0.0   \n",
       "4   0.138833  0.426230  0.233333  0.563636  0.009912  0.074074   0.0   \n",
       "\n",
       "   wnd_dir_NE  wnd_dir_NW  wnd_dir_SE  wnd_dir_cv  \n",
       "0           0           0           1           0  \n",
       "1           0           0           1           0  \n",
       "2           0           0           1           0  \n",
       "3           0           0           1           0  \n",
       "4           0           0           1           0  "
      ]
     },
     "execution_count": 92,
     "metadata": {
      "tags": []
     },
     "output_type": "execute_result"
    }
   ],
   "source": [
    "df_train_norm = df_train.copy()\n",
    "df_test_norm = df_test.copy()\n",
    "\n",
    "scaler = MinMaxScaler(feature_range=(0, 1))\n",
    "df_train_norm.loc[:,:'rain']  = scaler.fit_transform(df_train.loc[:,:'rain'])\n",
    "df_test_norm.loc[:,:'rain']  = scaler.fit_transform(df_test.loc[:,:'rain'])\n",
    "\n",
    "df_train_norm.head()"
   ]
  },
  {
   "cell_type": "markdown",
   "metadata": {
    "colab_type": "text",
    "id": "r9Wi9R-njacI"
   },
   "source": [
    "## Use a data generator\n",
    "- creates batches on the fly\n",
    "- good for data with large number of rows and features\n",
    "- don't need to perform lags on dataframe\n",
    "- the function below was adapted from https://github.com/fchollet/deep-learning-with-python-notebooks/blob/master/6.3-advanced-usage-of-recurrent-neural-networks.ipynb\n",
    "- note: Keras added a TimeseriesGenerator class in version 2.1.5 \n",
    "    - https://github.com/keras-team/keras/releases/tag/2.1.5\n",
    "    - keras.preprocessing.sequence.TimeseriesGenerator\n",
    "keras.preprocessing.sequence.TimeseriesGenerator\n",
    "It yields a tuple `(samples, targets)` where `samples` is one batch of input data and \n",
    "`targets` is the corresponding array of target temperatures. It takes the following arguments:\n",
    "\n",
    "* `dataframe`: pandas dataframe with feature matrix and target column\n",
    "* `target_name`: string of column with target values\n",
    "* `lookback`: How many timesteps back should our input data go.\n",
    "* `delay`: How many timesteps in the future should our target be.\n",
    "* `min_index` and `max_index`: Indices in the `data` array that delimit which timesteps to draw from. This is useful for keeping a segment \n",
    "of the data for validation and another one for testing.\n",
    "* `shuffle`: Whether to shuffle our samples or draw them in chronological order.\n",
    "* `batch_size`: The number of samples per batch.\n",
    "* `step`: The period, in timesteps, at which we sample data. We will set it 6 in order to draw one data point every hour."
   ]
  },
  {
   "cell_type": "markdown",
   "metadata": {
    "colab_type": "text",
    "id": "Q289g6TtjacI"
   },
   "source": []
  },
  {
   "cell_type": "code",
   "execution_count": 0,
   "metadata": {
    "colab": {},
    "colab_type": "code",
    "id": "LS8F2IHBjacJ"
   },
   "outputs": [],
   "source": [
    "def generator(dataframe, target_name, lookback, delay, min_index, max_index,shuffle=False, batch_size=128, step=6):\n",
    "    \n",
    "    data = dataframe.values\n",
    "    data = data.astype(np.float32)\n",
    "    target_indx = df.columns.get_loc(target_name)\n",
    "    \n",
    "    if max_index is None:\n",
    "        max_index = len(data) - delay - 1\n",
    "    i = min_index + lookback\n",
    "    while 1:\n",
    "        if shuffle:\n",
    "            rows = np.random.randint(\n",
    "                min_index + lookback, max_index, size=batch_size)\n",
    "        else:\n",
    "            if i + batch_size >= max_index:\n",
    "                i = min_index + lookback\n",
    "            rows = np.arange(i, min(i + batch_size, max_index))\n",
    "            i += len(rows)\n",
    "\n",
    "        samples = np.zeros((len(rows),\n",
    "                           lookback // step,\n",
    "                           data.shape[-1]))\n",
    "        targets = np.zeros((len(rows),))\n",
    "        for j, row in enumerate(rows):\n",
    "            indices = range(rows[j] - lookback, rows[j], step)\n",
    "            samples[j] = data[indices]\n",
    "            targets[j] = data[rows[j] + delay][target_indx]\n",
    "        yield samples, targets"
   ]
  },
  {
   "cell_type": "markdown",
   "metadata": {
    "colab_type": "text",
    "id": "k3V-ssIMjacN"
   },
   "source": [
    "## create train, validation, test data generators\n",
    "- we will 20% of the df_train to get the validation generator\n",
    "    - use the min_index,max_index arguments for slices from generator function"
   ]
  },
  {
   "cell_type": "code",
   "execution_count": 0,
   "metadata": {
    "colab": {},
    "colab_type": "code",
    "id": "YifTrpIhjacP"
   },
   "outputs": [],
   "source": [
    "#use previous 450 samples to predict next target ('pollution') samples\n",
    "lookback = 450 # window used for prediction\n",
    "delay = 1 # predict target one step ahead\n",
    "batch_size = 256\n",
    "\n",
    "train_gen = generator(dataframe = df_train_norm, \n",
    "                      target_name = 'pollution', \n",
    "                      lookback = lookback,\n",
    "                      delay = 1,\n",
    "                      min_index = 0,\n",
    "                      max_index = int(df_train.shape[0]*0.8),\n",
    "                      step = 1,\n",
    "                      shuffle = True,\n",
    "                      batch_size = batch_size)\n",
    "\n",
    "valid_gen = generator(dataframe = df_train_norm, \n",
    "                      target_name = 'pollution', \n",
    "                      lookback = lookback,\n",
    "                      delay = 1,\n",
    "                      min_index = int(df_train.shape[0]*0.8),\n",
    "                      max_index = None,\n",
    "                      step = 1,\n",
    "                      shuffle = False,\n",
    "                      batch_size = batch_size)\n",
    "\n",
    "# test_gen = generator(dataframe = df_test, \n",
    "#                      target_name = 'pollution', \n",
    "#                      lookback = lookback,\n",
    "#                      delay = 1,\n",
    "#                      min_index = 0,\n",
    "#                      max_index = None,\n",
    "#                      step = 1,\n",
    "#                      shuffle = False,\n",
    "#                      batch_size = batch_size)"
   ]
  },
  {
   "cell_type": "code",
   "execution_count": 117,
   "metadata": {
    "colab": {
     "base_uri": "https://localhost:8080/",
     "height": 67
    },
    "colab_type": "code",
    "id": "R9krAVuMjacV",
    "outputId": "794dab90-3943-43b7-814f-3e351d3462cf"
   },
   "outputs": [
    {
     "name": "stdout",
     "output_type": "stream",
     "text": [
      "validation_steps =  11\n",
      "train_steps =  121\n",
      "test_steps =  32\n"
     ]
    }
   ],
   "source": [
    "# This is how many steps to draw from `val_gen`\n",
    "# in order to see the whole validation set:\n",
    "val_steps = int((df_train_norm.shape[0]*.1 - lookback) // batch_size)\n",
    "print('validation_steps = ', val_steps)\n",
    "# This is how many steps to draw from `train_gen`\n",
    "# in order to see the whole train set:\n",
    "train_steps = int((df_train_norm.shape[0]*.9 - lookback) // batch_size)\n",
    "print('train_steps = ', train_steps)\n",
    "# This is how many steps to draw from `train_gen`\n",
    "# in order to see the whole train set:\n",
    "test_steps = int((df_test_norm.shape[0] - lookback) // batch_size)\n",
    "print('test_steps = ', test_steps)"
   ]
  },
  {
   "cell_type": "code",
   "execution_count": 0,
   "metadata": {
    "colab": {},
    "colab_type": "code",
    "id": "7shIrJr2jacZ"
   },
   "outputs": [],
   "source": [
    "def r2_keras(y_true, y_pred):\n",
    "    \"\"\"Coefficient of Determination \n",
    "    \"\"\"\n",
    "    SS_res =  K.sum(K.square( y_true - y_pred ))\n",
    "    SS_tot = K.sum(K.square( y_true - K.mean(y_true) ) )\n",
    "    return ( 1 - SS_res/(SS_tot + K.epsilon()) )"
   ]
  },
  {
   "cell_type": "markdown",
   "metadata": {
    "colab_type": "text",
    "id": "w9FLFXkvjacb"
   },
   "source": [
    "## Create LSTM model\n",
    "- to increase the modeling speed, replace the LSTM model with CuDNNLSTM and train on a GPU\n",
    "- can also use lightwieght GRU layers"
   ]
  },
  {
   "cell_type": "code",
   "execution_count": 0,
   "metadata": {
    "colab": {},
    "colab_type": "code",
    "id": "L3Y8_mFhjacc"
   },
   "outputs": [],
   "source": [
    "model = Sequential()\n",
    "# model.add(LSTM(50,\n",
    "#                activation='relu',\n",
    "#                return_sequences=True,\n",
    "#                stateful=False,\n",
    "#                input_shape=(None, df_train.shape[1])))\n",
    "# model.add(LSTM(50,\n",
    "#              activation='relu',\n",
    "#              return_sequences=False,\n",
    "#              stateful=False))\n",
    "\n",
    "model.add(CuDNNLSTM(64,\n",
    "               return_sequences=True,\n",
    "               stateful=False,\n",
    "               input_shape=(None, df_train_norm.shape[1])))\n",
    "model.add(CuDNNLSTM(32,\n",
    "               return_sequences=True,\n",
    "               stateful=False))\n",
    "model.add(CuDNNLSTM(16,\n",
    "             return_sequences=False,\n",
    "             stateful=False))\n",
    "#model.add(Dropout(0.4))\n",
    "\n",
    "model.add(Dense(1))"
   ]
  },
  {
   "cell_type": "markdown",
   "metadata": {
    "colab_type": "text",
    "id": "iZknUNitjach"
   },
   "source": [
    "## Fit the Model\n",
    "- to increase the modeling speed, replace the LSTM model with CuDNNLSTM and train on a GPU"
   ]
  },
  {
   "cell_type": "code",
   "execution_count": 120,
   "metadata": {
    "colab": {
     "base_uri": "https://localhost:8080/",
     "height": 608
    },
    "colab_type": "code",
    "id": "oHO1dP-Ejach",
    "outputId": "df57b1bb-5a8b-4904-b33b-195ce8b7f27d"
   },
   "outputs": [
    {
     "name": "stdout",
     "output_type": "stream",
     "text": [
      "Epoch 1/100\n",
      "121/121 [==============================] - 22s 180ms/step - loss: 0.0453 - r2_keras: 0.4901 - val_loss: 0.0298 - val_r2_keras: 0.4302\n",
      "Epoch 2/100\n",
      "121/121 [==============================] - 20s 166ms/step - loss: 0.0357 - r2_keras: 0.6518 - val_loss: 0.0267 - val_r2_keras: 0.6231\n",
      "Epoch 3/100\n",
      "121/121 [==============================] - 20s 167ms/step - loss: 0.0289 - r2_keras: 0.7603 - val_loss: 0.0240 - val_r2_keras: 0.7037\n",
      "Epoch 4/100\n",
      "121/121 [==============================] - 20s 167ms/step - loss: 0.0259 - r2_keras: 0.8019 - val_loss: 0.0199 - val_r2_keras: 0.6603\n",
      "Epoch 5/100\n",
      "121/121 [==============================] - 20s 166ms/step - loss: 0.0229 - r2_keras: 0.8267 - val_loss: 0.0221 - val_r2_keras: 0.7786\n",
      "Epoch 6/100\n",
      "121/121 [==============================] - 20s 166ms/step - loss: 0.0217 - r2_keras: 0.8357 - val_loss: 0.0186 - val_r2_keras: 0.6464\n",
      "Epoch 7/100\n",
      "121/121 [==============================] - 20s 167ms/step - loss: 0.0218 - r2_keras: 0.8269 - val_loss: 0.0202 - val_r2_keras: 0.8528\n",
      "Epoch 8/100\n",
      "121/121 [==============================] - 20s 166ms/step - loss: 0.0214 - r2_keras: 0.8306 - val_loss: 0.0176 - val_r2_keras: 0.7226\n",
      "Epoch 9/100\n",
      "121/121 [==============================] - 20s 166ms/step - loss: 0.0207 - r2_keras: 0.8353 - val_loss: 0.0197 - val_r2_keras: 0.7849\n",
      "Epoch 10/100\n",
      "121/121 [==============================] - 20s 166ms/step - loss: 0.0204 - r2_keras: 0.8434 - val_loss: 0.0181 - val_r2_keras: 0.7733\n",
      "Epoch 11/100\n",
      "121/121 [==============================] - 20s 165ms/step - loss: 0.0209 - r2_keras: 0.8302 - val_loss: 0.0166 - val_r2_keras: 0.7623\n",
      "Epoch 12/100\n",
      "121/121 [==============================] - 20s 166ms/step - loss: 0.0205 - r2_keras: 0.8398 - val_loss: 0.0200 - val_r2_keras: 0.7793\n",
      "Epoch 13/100\n",
      "121/121 [==============================] - 20s 166ms/step - loss: 0.0209 - r2_keras: 0.8284 - val_loss: 0.0165 - val_r2_keras: 0.7235\n",
      "Epoch 14/100\n",
      "121/121 [==============================] - 20s 166ms/step - loss: 0.0206 - r2_keras: 0.8390 - val_loss: 0.0195 - val_r2_keras: 0.8255\n",
      "Epoch 15/100\n",
      "121/121 [==============================] - 20s 167ms/step - loss: 0.0206 - r2_keras: 0.8381 - val_loss: 0.0167 - val_r2_keras: 0.6744\n",
      "Epoch 16/100\n",
      "121/121 [==============================] - 20s 167ms/step - loss: 0.0204 - r2_keras: 0.8382 - val_loss: 0.0205 - val_r2_keras: 0.8323\n",
      "Epoch 17/100\n",
      "121/121 [==============================] - 20s 166ms/step - loss: 0.0204 - r2_keras: 0.8381 - val_loss: 0.0168 - val_r2_keras: 0.7421\n"
     ]
    }
   ],
   "source": [
    "callbacks = [EarlyStopping(monitor='val_loss', min_delta = 0, patience=4),\n",
    "             ModelCheckpoint(filepath='lstm_model.h5', monitor='val_loss', save_best_only=True)]\n",
    "\n",
    "model.compile(loss='mae', optimizer='adam',metrics=[r2_keras])\n",
    "history = model.fit_generator(train_gen,\n",
    "                              steps_per_epoch=train_steps,\n",
    "                              epochs=100,\n",
    "                              shuffle=False,\n",
    "                              validation_data=valid_gen,\n",
    "                              validation_steps=val_steps,\n",
    "                              callbacks = callbacks)"
   ]
  },
  {
   "cell_type": "markdown",
   "metadata": {
    "colab_type": "text",
    "id": "Q_Rt3pdsjacl"
   },
   "source": [
    "## Get model predictions on df_test\n",
    "- get (X,y_truth) by calling train_gen using next\n",
    "- set the batch_size"
   ]
  },
  {
   "cell_type": "code",
   "execution_count": 121,
   "metadata": {
    "colab": {
     "base_uri": "https://localhost:8080/",
     "height": 34
    },
    "colab_type": "code",
    "id": "rSGvlzaBjacm",
    "outputId": "31ee4fb5-0d9a-488d-958e-6eb95f49e93b"
   },
   "outputs": [
    {
     "data": {
      "text/plain": [
       "8760"
      ]
     },
     "execution_count": 121,
     "metadata": {
      "tags": []
     },
     "output_type": "execute_result"
    }
   ],
   "source": [
    "df_test_norm.shape[0]"
   ]
  },
  {
   "cell_type": "code",
   "execution_count": 0,
   "metadata": {
    "colab": {},
    "colab_type": "code",
    "id": "J-6pPDV0jacq"
   },
   "outputs": [],
   "source": [
    "test_gen = generator(dataframe = df_test_norm, \n",
    "                     target_name = 'pollution', \n",
    "                     lookback = lookback,\n",
    "                     delay = 1,\n",
    "                     min_index = 0,\n",
    "                     max_index = None,\n",
    "                     step = 1,\n",
    "                     shuffle = False,\n",
    "                     batch_size = df_test.shape[0])"
   ]
  },
  {
   "cell_type": "code",
   "execution_count": 123,
   "metadata": {
    "colab": {
     "base_uri": "https://localhost:8080/",
     "height": 67
    },
    "colab_type": "code",
    "id": "Wj5zSkm_jacs",
    "outputId": "41912754-626a-4ae5-a2fe-1c6e45a90aa4"
   },
   "outputs": [
    {
     "name": "stdout",
     "output_type": "stream",
     "text": [
      "X_shape =  (8308, 450, 11)\n",
      "y_truth =  (8308,)\n",
      "y_pred =  (8308, 1)\n"
     ]
    }
   ],
   "source": [
    "(X, y_truth) = next(test_gen)\n",
    "\n",
    "y_pred = model.predict(X)\n",
    "\n",
    "\n",
    "print('X_shape = ',X.shape)\n",
    "print('y_truth = ',y_truth.shape)\n",
    "print('y_pred = ',y_pred.shape)"
   ]
  },
  {
   "cell_type": "code",
   "execution_count": 124,
   "metadata": {
    "colab": {
     "base_uri": "https://localhost:8080/",
     "height": 34
    },
    "colab_type": "code",
    "id": "BouEZfKzjacv",
    "outputId": "7bdb0800-2cdd-438a-9f20-4d6608339890"
   },
   "outputs": [
    {
     "data": {
      "text/plain": [
       "(8308, 1)"
      ]
     },
     "execution_count": 124,
     "metadata": {
      "tags": []
     },
     "output_type": "execute_result"
    }
   ],
   "source": [
    "np.expand_dims(y_truth,axis=1).shape"
   ]
  },
  {
   "cell_type": "markdown",
   "metadata": {
    "colab_type": "text",
    "id": "ISUUZtfMjacz"
   },
   "source": [
    "### Need to remove normalization\n",
    "- since we preformed normlization transform on 7 cols of dataframe, we need to add dummy colums to preds"
   ]
  },
  {
   "cell_type": "code",
   "execution_count": 0,
   "metadata": {
    "colab": {},
    "colab_type": "code",
    "id": "f80SdQaNjac0"
   },
   "outputs": [],
   "source": [
    "y_pred = np.concatenate((y_pred,np.zeros((y_pred.shape[0],6))),axis=1)\n",
    "y_pred = scaler.inverse_transform(y_pred)\n",
    "y_pred = y_pred[:,0]\n",
    "\n",
    "y_truth = np.concatenate((np.expand_dims(y_truth,axis=1),np.zeros((y_truth.shape[0],6))),axis=1)\n",
    "y_truth = scaler.inverse_transform(y_truth)\n",
    "y_truth = y_truth[:,0]"
   ]
  },
  {
   "cell_type": "markdown",
   "metadata": {
    "colab_type": "text",
    "id": "IsWb1_Hojac3"
   },
   "source": [
    "### Get R2 for this prediction"
   ]
  },
  {
   "cell_type": "code",
   "execution_count": 126,
   "metadata": {
    "colab": {
     "base_uri": "https://localhost:8080/",
     "height": 34
    },
    "colab_type": "code",
    "id": "lp5fVzFXjac4",
    "outputId": "3dfd642c-068c-44c2-cb44-baa29681ff50"
   },
   "outputs": [
    {
     "name": "stdout",
     "output_type": "stream",
     "text": [
      "R2 =  0.8771529854688266\n"
     ]
    }
   ],
   "source": [
    "slope, intercept, r_value, p_value, std_err = stats.linregress(x=y_pred,y=y_truth)\n",
    "print('R2 = ',r_value*r_value)"
   ]
  },
  {
   "cell_type": "code",
   "execution_count": 127,
   "metadata": {
    "colab": {
     "base_uri": "https://localhost:8080/",
     "height": 364
    },
    "colab_type": "code",
    "id": "dRn6j-5Vjac9",
    "outputId": "973429fa-d13b-4616-c6bc-dd4c8062bfad"
   },
   "outputs": [
    {
     "data": {
      "text/plain": [
       "<matplotlib.collections.PathCollection at 0x7f55b5cf84a8>"
      ]
     },
     "execution_count": 127,
     "metadata": {
      "tags": []
     },
     "output_type": "execute_result"
    },
    {
     "data": {
      "image/png": "[encoded data removed]",
      "text/plain": [
       "<matplotlib.figure.Figure at 0x7f55b7975da0>"
      ]
     },
     "metadata": {
      "tags": []
     },
     "output_type": "display_data"
    }
   ],
   "source": [
    "plt.scatter(x=y_pred,y=y_truth)"
   ]
  },
  {
   "cell_type": "code",
   "execution_count": 128,
   "metadata": {
    "colab": {
     "base_uri": "https://localhost:8080/",
     "height": 347
    },
    "colab_type": "code",
    "id": "gi4-BFd4jadC",
    "outputId": "a6b08730-8e2c-40f3-a222-7e591ef516e9"
   },
   "outputs": [
    {
     "data": {
      "image/png": "[encoded data removed]",
      "text/plain": [
       "<matplotlib.figure.Figure at 0x7f55b5d51eb8>"
      ]
     },
     "metadata": {
      "tags": []
     },
     "output_type": "display_data"
    }
   ],
   "source": [
    "plt.plot(y_truth)\n",
    "plt.plot(y_pred)\n",
    "plt.show()"
   ]
  },
  {
   "cell_type": "markdown",
   "metadata": {
    "colab_type": "text",
    "id": "f0h37CyIjadH"
   },
   "source": [
    "## Let's try the evaluate_generator in keras"
   ]
  },
  {
   "cell_type": "code",
   "execution_count": 129,
   "metadata": {
    "colab": {
     "base_uri": "https://localhost:8080/",
     "height": 34
    },
    "colab_type": "code",
    "id": "pQsfYFgcjadH",
    "outputId": "6bcc04f0-c1f7-4dd5-ce41-bd69f9534416"
   },
   "outputs": [
    {
     "name": "stdout",
     "output_type": "stream",
     "text": [
      "R2 =  0.8759715557098389\n"
     ]
    }
   ],
   "source": [
    "(_,r2) = model.evaluate_generator(generator=test_gen,steps=1,workers=1)\n",
    "print('R2 = ',r2)"
   ]
  }
 ],
 "metadata": {
  "accelerator": "GPU",
  "colab": {
   "collapsed_sections": [],
   "name": "LSTM_test_with_multivariate_time_series.ipynb",
   "provenance": [],
   "version": "0.3.2"
  },
  "kernelspec": {
   "display_name": "Python 3",
   "language": "python",
   "name": "python3"
  },
  "language_info": {
   "codemirror_mode": {
    "name": "ipython",
    "version": 3
   },
   "file_extension": ".py",
   "mimetype": "text/x-python",
   "name": "python",
   "nbconvert_exporter": "python",
   "pygments_lexer": "ipython3",
   "version": "3.6.8"
  }
 },
 "nbformat": 4,
 "nbformat_minor": 1
}
